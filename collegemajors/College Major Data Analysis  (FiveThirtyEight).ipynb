{
 "cells": [
  {
   "cell_type": "code",
   "execution_count": 17,
   "metadata": {
    "collapsed": true
   },
   "outputs": [],
   "source": [
    "import numpy as np\n",
    "import pandas as pd\n",
    "import matplotlib\n",
    "from matplotlib import pyplot as plt\n",
    "%matplotlib inline"
   ]
  },
  {
   "cell_type": "code",
   "execution_count": 18,
   "metadata": {
    "collapsed": false
   },
   "outputs": [],
   "source": [
    "forestfire = pd.read_csv(\"/Users/shobhit/Documents/python/GitHub/PythonCode/forestfire.csv\")"
   ]
  },
  {
   "cell_type": "code",
   "execution_count": 19,
   "metadata": {
    "collapsed": true
   },
   "outputs": [],
   "source": [
    "recent_grads = pd.read_csv(\"/Users/shobhit/Documents/python/GitHub/PythonCode/collegemajors/recent-grads.csv\")"
   ]
  },
  {
   "cell_type": "code",
   "execution_count": 20,
   "metadata": {
    "collapsed": false
   },
   "outputs": [
    {
     "name": "stdout",
     "output_type": "stream",
     "text": [
      "   Major_code                                  Major  \\\n",
      "0        1100                    GENERAL AGRICULTURE   \n",
      "1        1101  AGRICULTURE PRODUCTION AND MANAGEMENT   \n",
      "2        1102                 AGRICULTURAL ECONOMICS   \n",
      "3        1103                        ANIMAL SCIENCES   \n",
      "4        1104                           FOOD SCIENCE   \n",
      "\n",
      "                    Major_category   Total  Employed  \\\n",
      "0  Agriculture & Natural Resources  128148     90245   \n",
      "1  Agriculture & Natural Resources   95326     76865   \n",
      "2  Agriculture & Natural Resources   33955     26321   \n",
      "3  Agriculture & Natural Resources  103549     81177   \n",
      "4  Agriculture & Natural Resources   24280     17281   \n",
      "\n",
      "   Employed_full_time_year_round  Unemployed  Unemployment_rate  Median  \\\n",
      "0                          74078        2423           0.026147   50000   \n",
      "1                          64240        2266           0.028636   54000   \n",
      "2                          22810         821           0.030248   63000   \n",
      "3                          64937        3619           0.042679   46000   \n",
      "4                          12722         894           0.049188   62000   \n",
      "\n",
      "   P25th    P75th  \n",
      "0  34000  80000.0  \n",
      "1  36000  80000.0  \n",
      "2  40000  98000.0  \n",
      "3  30000  72000.0  \n",
      "4  38500  90000.0  \n"
     ]
    }
   ],
   "source": [
    "print(all_ages.head())"
   ]
  },
  {
   "cell_type": "code",
   "execution_count": 21,
   "metadata": {
    "collapsed": false
   },
   "outputs": [
    {
     "name": "stdout",
     "output_type": "stream",
     "text": [
      "   Rank  Major_code                                      Major Major_category  \\\n",
      "0     1        2419                      PETROLEUM ENGINEERING    Engineering   \n",
      "1     2        2416             MINING AND MINERAL ENGINEERING    Engineering   \n",
      "2     3        2415                  METALLURGICAL ENGINEERING    Engineering   \n",
      "3     4        2417  NAVAL ARCHITECTURE AND MARINE ENGINEERING    Engineering   \n",
      "4     5        2405                       CHEMICAL ENGINEERING    Engineering   \n",
      "\n",
      "   Total  Sample_size    Men  Women  ShareWomen  Employed      ...        \\\n",
      "0   2339           36   2057    282    0.120564      1976      ...         \n",
      "1    756            7    679     77    0.101852       640      ...         \n",
      "2    856            3    725    131    0.153037       648      ...         \n",
      "3   1258           16   1123    135    0.107313       758      ...         \n",
      "4  32260          289  21239  11021    0.341631     25694      ...         \n",
      "\n",
      "   Part_time  Full_time_year_round  Unemployed  Unemployment_rate  Median  \\\n",
      "0        270                  1207          37           0.018381  110000   \n",
      "1        170                   388          85           0.117241   75000   \n",
      "2        133                   340          16           0.024096   73000   \n",
      "3        150                   692          40           0.050125   70000   \n",
      "4       5180                 16697        1672           0.061098   65000   \n",
      "\n",
      "   P25th   P75th  College_jobs  Non_college_jobs  Low_wage_jobs  \n",
      "0  95000  125000          1534               364            193  \n",
      "1  55000   90000           350               257             50  \n",
      "2  50000  105000           456               176              0  \n",
      "3  43000   80000           529               102              0  \n",
      "4  50000   75000         18314              4440            972  \n",
      "\n",
      "[5 rows x 21 columns]\n"
     ]
    }
   ],
   "source": [
    "print(recent_grads.head())"
   ]
  },
  {
   "cell_type": "code",
   "execution_count": 22,
   "metadata": {
    "collapsed": true
   },
   "outputs": [],
   "source": [
    "all_ages_major_categories = dict()\n",
    "recent_grads_major_categories = dict()\n",
    "def calculate_major_cat_totals(a):\n",
    "    cats = a['Major_category'].value_counts().index\n",
    "    counts_dictionary = dict()\n",
    "\n",
    "    for c in cats:\n",
    "        major_df = a[a[\"Major_category\"] == c]\n",
    "        total = major_df[\"Total\"].sum(axis=0)\n",
    "        counts_dictionary[c] = total\n",
    "    return counts_dictionary\n",
    "\n",
    "all_ages_major_categories = calculate_major_cat_totals(all_ages)\n",
    "recent_grads_major_categories = calculate_major_cat_totals(recent_grads)"
   ]
  },
  {
   "cell_type": "code",
   "execution_count": 25,
   "metadata": {
    "collapsed": false
   },
   "outputs": [
    {
     "name": "stdout",
     "output_type": "stream",
     "text": [
      "<bound method IndexOpsMixin.unique of 0          Agriculture & Natural Resources\n",
      "1          Agriculture & Natural Resources\n",
      "2          Agriculture & Natural Resources\n",
      "3          Agriculture & Natural Resources\n",
      "4          Agriculture & Natural Resources\n",
      "5          Agriculture & Natural Resources\n",
      "6          Agriculture & Natural Resources\n",
      "7          Agriculture & Natural Resources\n",
      "8                   Biology & Life Science\n",
      "9          Agriculture & Natural Resources\n",
      "10         Agriculture & Natural Resources\n",
      "11                             Engineering\n",
      "12               Humanities & Liberal Arts\n",
      "13             Communications & Journalism\n",
      "14             Communications & Journalism\n",
      "15             Communications & Journalism\n",
      "16             Communications & Journalism\n",
      "17                 Computers & Mathematics\n",
      "18                 Computers & Mathematics\n",
      "19                 Computers & Mathematics\n",
      "20                 Computers & Mathematics\n",
      "21                 Computers & Mathematics\n",
      "22                 Computers & Mathematics\n",
      "23                 Computers & Mathematics\n",
      "24     Industrial Arts & Consumer Services\n",
      "25                               Education\n",
      "26                               Education\n",
      "27                               Education\n",
      "28                               Education\n",
      "29                               Education\n",
      "                      ...                 \n",
      "143                                   Arts\n",
      "144              Humanities & Liberal Arts\n",
      "145                                   Arts\n",
      "146                                   Arts\n",
      "147                                 Health\n",
      "148                                 Health\n",
      "149                                 Health\n",
      "150                                 Health\n",
      "151                                 Health\n",
      "152                                 Health\n",
      "153                                 Health\n",
      "154                                 Health\n",
      "155                                 Health\n",
      "156                                 Health\n",
      "157                                 Health\n",
      "158                               Business\n",
      "159                               Business\n",
      "160                               Business\n",
      "161                               Business\n",
      "162                               Business\n",
      "163                               Business\n",
      "164                               Business\n",
      "165                               Business\n",
      "166                               Business\n",
      "167                               Business\n",
      "168                               Business\n",
      "169                               Business\n",
      "170                               Business\n",
      "171              Humanities & Liberal Arts\n",
      "172              Humanities & Liberal Arts\n",
      "Name: Major_category, dtype: object>\n"
     ]
    }
   ],
   "source": [
    "\n",
    "print (all_ages.Major_category.unique)\n",
    "    \n",
    "\n"
   ]
  },
  {
   "cell_type": "code",
   "execution_count": 27,
   "metadata": {
    "collapsed": false
   },
   "outputs": [
    {
     "name": "stdout",
     "output_type": "stream",
     "text": [
      "2950859\n"
     ]
    }
   ],
   "source": [
    "print(all_ages_major_categories[\"Health\"])"
   ]
  },
  {
   "cell_type": "code",
   "execution_count": 28,
   "metadata": {
    "collapsed": true
   },
   "outputs": [],
   "source": [
    "low_wage_percent = (recent_grads['Low_wage_jobs'].sum(axis=0))/(recent_grads['Total'].sum(axis=0))"
   ]
  },
  {
   "cell_type": "code",
   "execution_count": 29,
   "metadata": {
    "collapsed": false
   },
   "outputs": [
    {
     "name": "stdout",
     "output_type": "stream",
     "text": [
      "0.09852546076122913\n"
     ]
    }
   ],
   "source": [
    "print(low_wage_percent)"
   ]
  },
  {
   "cell_type": "code",
   "execution_count": 40,
   "metadata": {
    "collapsed": false
   },
   "outputs": [],
   "source": [
    "majors = recent_grads['Major'].value_counts().index\n",
    "\n",
    "recent_grads_lower_unemp_count = 0\n",
    "all_ages_lower_unemp_count = 0\n",
    "\n",
    "\n",
    "for m in majors:\n",
    "    recent_grad = recent_grads[recent_grads['Major']== m]\n",
    "    all_age = all_ages[all_ages['Major']== m]\n",
    "    \n",
    "    all_age_unmp = all_age['Unemployment_rate'].values[0]\n",
    "    recent_grad_unmp = recent_grad['Unemployment_rate'].values[0]\n",
    "    \n",
    "    if all_age_unmp > recent_grad_unmp:\n",
    "        recent_grads_lower_unemp_count +=1\n",
    "    elif all_age_unmp < recent_grad_unmp:\n",
    "        all_ages_lower_unemp_count += 1\n",
    "    \n",
    "    "
   ]
  },
  {
   "cell_type": "code",
   "execution_count": 41,
   "metadata": {
    "collapsed": false
   },
   "outputs": [
    {
     "name": "stdout",
     "output_type": "stream",
     "text": [
      "43\n",
      "128\n"
     ]
    }
   ],
   "source": [
    "print(recent_grads_lower_unemp_count)\n",
    "print(all_ages_lower_unemp_count)"
   ]
  },
  {
   "cell_type": "code",
   "execution_count": null,
   "metadata": {
    "collapsed": true
   },
   "outputs": [],
   "source": []
  }
 ],
 "metadata": {
  "kernelspec": {
   "display_name": "Python 3",
   "language": "python",
   "name": "python3"
  },
  "language_info": {
   "codemirror_mode": {
    "name": "ipython",
    "version": 3
   },
   "file_extension": ".py",
   "mimetype": "text/x-python",
   "name": "python",
   "nbconvert_exporter": "python",
   "pygments_lexer": "ipython3",
   "version": "3.5.1"
  }
 },
 "nbformat": 4,
 "nbformat_minor": 0
}
