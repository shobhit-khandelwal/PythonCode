{
 "cells": [
  {
   "cell_type": "code",
   "execution_count": 699,
   "metadata": {
    "collapsed": true
   },
   "outputs": [],
   "source": [
    "#lets import the file in a dataframe and import other packages\n",
    "\n",
    "import pandas as pd\n",
    "import seaborn as sns\n",
    "import numpy as np\n",
    "import matplotlib.pyplot as plt\n",
    "%matplotlib inline\n",
    "\n",
    "driver = pd.read_csv(\"data_u.csv\")"
   ]
  },
  {
   "cell_type": "markdown",
   "metadata": {},
   "source": [
    "We want to look at structure of data"
   ]
  },
  {
   "cell_type": "code",
   "execution_count": 700,
   "metadata": {
    "collapsed": false
   },
   "outputs": [
    {
     "data": {
      "text/html": [
       "<div>\n",
       "<table border=\"1\" class=\"dataframe\">\n",
       "  <thead>\n",
       "    <tr style=\"text-align: right;\">\n",
       "      <th></th>\n",
       "      <th>id</th>\n",
       "      <th>city_name</th>\n",
       "      <th>signup_os</th>\n",
       "      <th>signup_channel</th>\n",
       "      <th>signup_date</th>\n",
       "      <th>bgc_date</th>\n",
       "      <th>vehicle_added_date</th>\n",
       "      <th>vehicle_make</th>\n",
       "      <th>vehicle_model</th>\n",
       "      <th>vehicle_year</th>\n",
       "      <th>first_completed_date</th>\n",
       "    </tr>\n",
       "  </thead>\n",
       "  <tbody>\n",
       "    <tr>\n",
       "      <th>0</th>\n",
       "      <td>1</td>\n",
       "      <td>Strark</td>\n",
       "      <td>ios web</td>\n",
       "      <td>Paid</td>\n",
       "      <td>1/2/16</td>\n",
       "      <td>NaN</td>\n",
       "      <td>NaN</td>\n",
       "      <td>NaN</td>\n",
       "      <td>NaN</td>\n",
       "      <td>NaN</td>\n",
       "      <td>NaN</td>\n",
       "    </tr>\n",
       "    <tr>\n",
       "      <th>1</th>\n",
       "      <td>2</td>\n",
       "      <td>Strark</td>\n",
       "      <td>windows</td>\n",
       "      <td>Paid</td>\n",
       "      <td>1/21/16</td>\n",
       "      <td>NaN</td>\n",
       "      <td>NaN</td>\n",
       "      <td>NaN</td>\n",
       "      <td>NaN</td>\n",
       "      <td>NaN</td>\n",
       "      <td>NaN</td>\n",
       "    </tr>\n",
       "    <tr>\n",
       "      <th>2</th>\n",
       "      <td>3</td>\n",
       "      <td>Wrouver</td>\n",
       "      <td>windows</td>\n",
       "      <td>Organic</td>\n",
       "      <td>1/11/16</td>\n",
       "      <td>1/11/16</td>\n",
       "      <td>NaN</td>\n",
       "      <td>NaN</td>\n",
       "      <td>NaN</td>\n",
       "      <td>NaN</td>\n",
       "      <td>NaN</td>\n",
       "    </tr>\n",
       "    <tr>\n",
       "      <th>3</th>\n",
       "      <td>4</td>\n",
       "      <td>Berton</td>\n",
       "      <td>android web</td>\n",
       "      <td>Referral</td>\n",
       "      <td>1/29/16</td>\n",
       "      <td>2/3/16</td>\n",
       "      <td>2/3/16</td>\n",
       "      <td>Toyota</td>\n",
       "      <td>Corolla</td>\n",
       "      <td>2016.0</td>\n",
       "      <td>2/3/16</td>\n",
       "    </tr>\n",
       "    <tr>\n",
       "      <th>4</th>\n",
       "      <td>5</td>\n",
       "      <td>Strark</td>\n",
       "      <td>android web</td>\n",
       "      <td>Referral</td>\n",
       "      <td>1/10/16</td>\n",
       "      <td>1/25/16</td>\n",
       "      <td>1/26/16</td>\n",
       "      <td>Hyundai</td>\n",
       "      <td>Sonata</td>\n",
       "      <td>2016.0</td>\n",
       "      <td>NaN</td>\n",
       "    </tr>\n",
       "  </tbody>\n",
       "</table>\n",
       "</div>"
      ],
      "text/plain": [
       "   id city_name    signup_os signup_channel signup_date bgc_date  \\\n",
       "0   1    Strark      ios web           Paid      1/2/16      NaN   \n",
       "1   2    Strark      windows           Paid     1/21/16      NaN   \n",
       "2   3   Wrouver      windows        Organic     1/11/16  1/11/16   \n",
       "3   4    Berton  android web       Referral     1/29/16   2/3/16   \n",
       "4   5    Strark  android web       Referral     1/10/16  1/25/16   \n",
       "\n",
       "  vehicle_added_date vehicle_make vehicle_model  vehicle_year  \\\n",
       "0                NaN          NaN           NaN           NaN   \n",
       "1                NaN          NaN           NaN           NaN   \n",
       "2                NaN          NaN           NaN           NaN   \n",
       "3             2/3/16       Toyota       Corolla        2016.0   \n",
       "4            1/26/16      Hyundai        Sonata        2016.0   \n",
       "\n",
       "  first_completed_date  \n",
       "0                  NaN  \n",
       "1                  NaN  \n",
       "2                  NaN  \n",
       "3               2/3/16  \n",
       "4                  NaN  "
      ]
     },
     "execution_count": 700,
     "metadata": {},
     "output_type": "execute_result"
    }
   ],
   "source": [
    "\n",
    "driver.head()\n"
   ]
  },
  {
   "cell_type": "code",
   "execution_count": 701,
   "metadata": {
    "collapsed": false
   },
   "outputs": [
    {
     "name": "stdout",
     "output_type": "stream",
     "text": [
      "<class 'pandas.core.frame.DataFrame'>\n",
      "RangeIndex: 54681 entries, 0 to 54680\n",
      "Data columns (total 11 columns):\n",
      "id                      54681 non-null int64\n",
      "city_name               54681 non-null object\n",
      "signup_os               47824 non-null object\n",
      "signup_channel          54681 non-null object\n",
      "signup_date             54681 non-null object\n",
      "bgc_date                32896 non-null object\n",
      "vehicle_added_date      13134 non-null object\n",
      "vehicle_make            13223 non-null object\n",
      "vehicle_model           13223 non-null object\n",
      "vehicle_year            13223 non-null float64\n",
      "first_completed_date    6137 non-null object\n",
      "dtypes: float64(1), int64(1), object(9)\n",
      "memory usage: 4.6+ MB\n"
     ]
    }
   ],
   "source": [
    "# We can also get overall info for the dataset\n",
    "driver.info()"
   ]
  },
  {
   "cell_type": "markdown",
   "metadata": {},
   "source": [
    "We assume conversion rate is the measure of effectiveness, i.e fraction of drivers taking the first trip.\n",
    "\n",
    "First some basic questions:\n",
    "\n",
    "    1.) How many drivers ended up completeing the trip out of drivers who signed up for  Uber? \n",
    "    2.) What is the perfomace of drivers in various cities. (Perfomace i.e conversion of signed up drivers to \n",
    "         actually take a trip)\n",
    "    \n",
    "    3.) How is devices impact the conversion rate ?\n",
    "    4.) How is the conversion of drivers in various signup channels ?\n",
    "    5.) What is difference between sinup date and vehicle added date and back ground check date , and how useful               it is to predict whether a driver will start driving or not?\n",
    "    \n",
    "    \n",
    "Then we'll dig deeper, with a broader question:\n",
    "\n",
    "    6.) What factors help determine whether a driver who sign up will take his first trip or not?"
   ]
  },
  {
   "cell_type": "markdown",
   "metadata": {},
   "source": [
    "We need to convert the datatypes of different dates to datetime from object"
   ]
  },
  {
   "cell_type": "code",
   "execution_count": 702,
   "metadata": {
    "collapsed": false
   },
   "outputs": [],
   "source": [
    "\n",
    "# cleaup the date columns, converting the strings to datetime\n",
    "for col in ['vehicle_added_date', 'signup_date', 'bgc_date', 'first_completed_date']:\n",
    "    driver.loc[:, col] = pd.to_datetime(driver[col])"
   ]
  },
  {
   "cell_type": "code",
   "execution_count": 703,
   "metadata": {
    "collapsed": true
   },
   "outputs": [],
   "source": [
    "# cleanup the categorical columns\n",
    "for col in ['city_name', 'signup_os', 'signup_channel', 'vehicle_make', 'vehicle_model']:\n",
    "    driver.loc[:, col] = driver[col].astype('category')"
   ]
  },
  {
   "cell_type": "code",
   "execution_count": null,
   "metadata": {
    "collapsed": true
   },
   "outputs": [],
   "source": []
  },
  {
   "cell_type": "markdown",
   "metadata": {},
   "source": [
    "#  We want to know number of drivers who completed the first trip "
   ]
  },
  {
   "cell_type": "code",
   "execution_count": 704,
   "metadata": {
    "collapsed": true
   },
   "outputs": [],
   "source": [
    "# construct target variable\n",
    "driver.loc[:, 'target'] = 0\n",
    "driver.loc[~driver['first_completed_date'].isnull(), 'target'] = 1"
   ]
  },
  {
   "cell_type": "code",
   "execution_count": 288,
   "metadata": {
    "collapsed": true
   },
   "outputs": [],
   "source": []
  },
  {
   "cell_type": "markdown",
   "metadata": {},
   "source": [
    "## Total number of drivers"
   ]
  },
  {
   "cell_type": "markdown",
   "metadata": {},
   "source": [
    "# fraction of driver who completed first trip "
   ]
  },
  {
   "cell_type": "code",
   "execution_count": 705,
   "metadata": {
    "collapsed": false
   },
   "outputs": [
    {
     "name": "stdout",
     "output_type": "stream",
     "text": [
      "0.11223276823759624\n"
     ]
    }
   ],
   "source": [
    "# fraction of drivers who completed the trip\n",
    "success_frac = driver['target'].sum()/len(driver)\n",
    "print(success_frac)"
   ]
  },
  {
   "cell_type": "markdown",
   "metadata": {},
   "source": [
    "So approximately 11% of Signed up drivers finished their first trip "
   ]
  },
  {
   "cell_type": "code",
   "execution_count": 706,
   "metadata": {
    "collapsed": false
   },
   "outputs": [
    {
     "data": {
      "text/plain": [
       "265"
      ]
     },
     "execution_count": 706,
     "metadata": {},
     "output_type": "execute_result"
    }
   ],
   "source": [
    "# data anomalies, we have success without bgc check or vehicle addition\n",
    "driver[(driver['bgc_date'].isnull()) | (driver['vehicle_added_date'].isnull())]['target'].sum()\n"
   ]
  },
  {
   "cell_type": "markdown",
   "metadata": {},
   "source": [
    "# Is someone allowed to drive without a background check"
   ]
  },
  {
   "cell_type": "code",
   "execution_count": 707,
   "metadata": {
    "collapsed": false
   },
   "outputs": [
    {
     "data": {
      "text/html": [
       "<div>\n",
       "<table border=\"1\" class=\"dataframe\">\n",
       "  <thead>\n",
       "    <tr style=\"text-align: right;\">\n",
       "      <th></th>\n",
       "      <th>id</th>\n",
       "      <th>city_name</th>\n",
       "      <th>signup_os</th>\n",
       "      <th>signup_channel</th>\n",
       "      <th>signup_date</th>\n",
       "      <th>bgc_date</th>\n",
       "      <th>vehicle_added_date</th>\n",
       "      <th>vehicle_make</th>\n",
       "      <th>vehicle_model</th>\n",
       "      <th>vehicle_year</th>\n",
       "      <th>first_completed_date</th>\n",
       "      <th>target</th>\n",
       "    </tr>\n",
       "  </thead>\n",
       "  <tbody>\n",
       "    <tr>\n",
       "      <th>0</th>\n",
       "      <td>1</td>\n",
       "      <td>Strark</td>\n",
       "      <td>ios web</td>\n",
       "      <td>Paid</td>\n",
       "      <td>2016-01-02</td>\n",
       "      <td>NaT</td>\n",
       "      <td>NaT</td>\n",
       "      <td>NaN</td>\n",
       "      <td>NaN</td>\n",
       "      <td>NaN</td>\n",
       "      <td>NaT</td>\n",
       "      <td>0</td>\n",
       "    </tr>\n",
       "    <tr>\n",
       "      <th>1</th>\n",
       "      <td>2</td>\n",
       "      <td>Strark</td>\n",
       "      <td>windows</td>\n",
       "      <td>Paid</td>\n",
       "      <td>2016-01-21</td>\n",
       "      <td>NaT</td>\n",
       "      <td>NaT</td>\n",
       "      <td>NaN</td>\n",
       "      <td>NaN</td>\n",
       "      <td>NaN</td>\n",
       "      <td>NaT</td>\n",
       "      <td>0</td>\n",
       "    </tr>\n",
       "    <tr>\n",
       "      <th>2</th>\n",
       "      <td>3</td>\n",
       "      <td>Wrouver</td>\n",
       "      <td>windows</td>\n",
       "      <td>Organic</td>\n",
       "      <td>2016-01-11</td>\n",
       "      <td>2016-01-11</td>\n",
       "      <td>NaT</td>\n",
       "      <td>NaN</td>\n",
       "      <td>NaN</td>\n",
       "      <td>NaN</td>\n",
       "      <td>NaT</td>\n",
       "      <td>0</td>\n",
       "    </tr>\n",
       "    <tr>\n",
       "      <th>3</th>\n",
       "      <td>4</td>\n",
       "      <td>Berton</td>\n",
       "      <td>android web</td>\n",
       "      <td>Referral</td>\n",
       "      <td>2016-01-29</td>\n",
       "      <td>2016-02-03</td>\n",
       "      <td>2016-02-03</td>\n",
       "      <td>Toyota</td>\n",
       "      <td>Corolla</td>\n",
       "      <td>2016.0</td>\n",
       "      <td>2016-02-03</td>\n",
       "      <td>1</td>\n",
       "    </tr>\n",
       "    <tr>\n",
       "      <th>4</th>\n",
       "      <td>5</td>\n",
       "      <td>Strark</td>\n",
       "      <td>android web</td>\n",
       "      <td>Referral</td>\n",
       "      <td>2016-01-10</td>\n",
       "      <td>2016-01-25</td>\n",
       "      <td>2016-01-26</td>\n",
       "      <td>Hyundai</td>\n",
       "      <td>Sonata</td>\n",
       "      <td>2016.0</td>\n",
       "      <td>NaT</td>\n",
       "      <td>0</td>\n",
       "    </tr>\n",
       "  </tbody>\n",
       "</table>\n",
       "</div>"
      ],
      "text/plain": [
       "   id city_name    signup_os signup_channel signup_date   bgc_date  \\\n",
       "0   1    Strark      ios web           Paid  2016-01-02        NaT   \n",
       "1   2    Strark      windows           Paid  2016-01-21        NaT   \n",
       "2   3   Wrouver      windows        Organic  2016-01-11 2016-01-11   \n",
       "3   4    Berton  android web       Referral  2016-01-29 2016-02-03   \n",
       "4   5    Strark  android web       Referral  2016-01-10 2016-01-25   \n",
       "\n",
       "  vehicle_added_date vehicle_make vehicle_model  vehicle_year  \\\n",
       "0                NaT          NaN           NaN           NaN   \n",
       "1                NaT          NaN           NaN           NaN   \n",
       "2                NaT          NaN           NaN           NaN   \n",
       "3         2016-02-03       Toyota       Corolla        2016.0   \n",
       "4         2016-01-26      Hyundai        Sonata        2016.0   \n",
       "\n",
       "  first_completed_date  target  \n",
       "0                  NaT       0  \n",
       "1                  NaT       0  \n",
       "2                  NaT       0  \n",
       "3           2016-02-03       1  \n",
       "4                  NaT       0  "
      ]
     },
     "execution_count": 707,
     "metadata": {},
     "output_type": "execute_result"
    }
   ],
   "source": [
    "driver.head()"
   ]
  },
  {
   "cell_type": "code",
   "execution_count": 708,
   "metadata": {
    "collapsed": false
   },
   "outputs": [],
   "source": [
    "import seaborn as sns"
   ]
  },
  {
   "cell_type": "markdown",
   "metadata": {},
   "source": [
    "##  Lets visualize the importance of cities and add the dummies variables for the same to dataframe if we think it is important"
   ]
  },
  {
   "cell_type": "code",
   "execution_count": 709,
   "metadata": {
    "collapsed": false
   },
   "outputs": [
    {
     "name": "stdout",
     "output_type": "stream",
     "text": [
      "Category: city_name\n",
      "Sub-Category: Berton num_cases: 20117 success_frac: 0.12114132325893523\n",
      "Sub-Category: Strark num_cases: 29557 success_frac: 0.1095848699123727\n",
      "Sub-Category: Wrouver num_cases: 5007 success_frac: 0.0920711004593569\n",
      "----------------------\n",
      "Category: signup_os\n",
      "Sub-Category: android web num_cases: 14944 success_frac: 0.097296573875803\n",
      "Sub-Category: ios web num_cases: 16632 success_frac: 0.13173400673400673\n",
      "Sub-Category: mac num_cases: 5824 success_frac: 0.16277472527472528\n",
      "Sub-Category: other num_cases: 3648 success_frac: 0.13651315789473684\n",
      "Sub-Category: windows num_cases: 6776 success_frac: 0.13252656434474616\n",
      "----------------------\n",
      "Category: signup_channel\n",
      "Sub-Category: Organic num_cases: 13427 success_frac: 0.09011692857674834\n",
      "Sub-Category: Paid num_cases: 23938 success_frac: 0.06190993399615674\n",
      "Sub-Category: Referral num_cases: 17316 success_frac: 0.19894894894894896\n",
      "----------------------\n",
      "Category: vehicle_make\n",
      "Sub-Category: Acura num_cases: 190 success_frac: 0.46842105263157896\n",
      "Sub-Category: Audi num_cases: 144 success_frac: 0.4236111111111111\n",
      "Sub-Category: Autobot num_cases: 8 success_frac: 0.125\n",
      "Sub-Category: BMW num_cases: 330 success_frac: 0.41818181818181815\n",
      "Sub-Category: Bentley num_cases: 2 success_frac: 0.0\n",
      "Sub-Category: Bicycle num_cases: 5 success_frac: 0.2\n",
      "Sub-Category: Bike num_cases: 6 success_frac: 0.16666666666666666\n",
      "Sub-Category: Buick num_cases: 46 success_frac: 0.4782608695652174\n",
      "Sub-Category: Cadillac num_cases: 86 success_frac: 0.4186046511627907\n",
      "Sub-Category: Chevrolet num_cases: 665 success_frac: 0.3879699248120301\n",
      "Sub-Category: Chrysler num_cases: 202 success_frac: 0.38613861386138615\n",
      "Sub-Category: Dodge num_cases: 393 success_frac: 0.4071246819338422\n",
      "Sub-Category: Fiat num_cases: 11 success_frac: 0.36363636363636365\n",
      "Sub-Category: Ford num_cases: 778 success_frac: 0.45115681233933164\n",
      "Sub-Category: GMC num_cases: 89 success_frac: 0.47191011235955055\n",
      "Sub-Category: Honda num_cases: 1845 success_frac: 0.46612466124661245\n",
      "Sub-Category: Hummer num_cases: 7 success_frac: 0.2857142857142857\n",
      "Sub-Category: Hyundai num_cases: 677 success_frac: 0.4254062038404727\n",
      "Sub-Category: Infiniti num_cases: 147 success_frac: 0.3877551020408163\n",
      "Sub-Category: Isuzu num_cases: 2 success_frac: 0.5\n",
      "Sub-Category: Jaguar num_cases: 15 success_frac: 0.4666666666666667\n",
      "Sub-Category: Jeep num_cases: 203 success_frac: 0.43842364532019706\n",
      "Sub-Category: Kia num_cases: 584 success_frac: 0.4349315068493151\n",
      "Sub-Category: Land Rover num_cases: 20 success_frac: 0.2\n",
      "Sub-Category: Lexus num_cases: 335 success_frac: 0.48059701492537316\n",
      "Sub-Category: Lincoln num_cases: 70 success_frac: 0.4714285714285714\n",
      "Sub-Category: Maserati num_cases: 2 success_frac: 0.5\n",
      "Sub-Category: Mazda num_cases: 292 success_frac: 0.4417808219178082\n",
      "Sub-Category: Mercedes-Benz num_cases: 348 success_frac: 0.4367816091954023\n",
      "Sub-Category: Mercury num_cases: 9 success_frac: 0.5555555555555556\n",
      "Sub-Category: Mini num_cases: 20 success_frac: 0.45\n",
      "Sub-Category: Mitsubishi num_cases: 113 success_frac: 0.3274336283185841\n",
      "Sub-Category: Nissan num_cases: 1311 success_frac: 0.4286803966437834\n",
      "Sub-Category: Oldsmobile num_cases: 1 success_frac: 1.0\n",
      "Sub-Category: Pontiac num_cases: 30 success_frac: 0.26666666666666666\n",
      "Sub-Category: Porsche num_cases: 10 success_frac: 0.2\n",
      "Sub-Category: Saab num_cases: 7 success_frac: 0.42857142857142855\n",
      "Sub-Category: Saturn num_cases: 30 success_frac: 0.4666666666666667\n",
      "Sub-Category: Scion num_cases: 164 success_frac: 0.4817073170731707\n",
      "Sub-Category: Subaru num_cases: 221 success_frac: 0.42081447963800905\n",
      "Sub-Category: Suzuki num_cases: 12 success_frac: 0.5\n",
      "Sub-Category: Tesla num_cases: 13 success_frac: 0.3076923076923077\n",
      "Sub-Category: Toyota num_cases: 3219 success_frac: 0.47685616651133894\n",
      "Sub-Category: Volkswagen num_cases: 503 success_frac: 0.43737574552683894\n",
      "Sub-Category: Volvo num_cases: 57 success_frac: 0.2631578947368421\n",
      "Sub-Category: Walker num_cases: 1 success_frac: 0.0\n",
      "----------------------\n",
      "Category: vehicle_model\n",
      "Sub-Category: 200 num_cases: 57 success_frac: 0.38596491228070173\n",
      "Sub-Category: 3-Sep num_cases: 6 success_frac: 0.5\n",
      "Sub-Category: 3-series num_cases: 163 success_frac: 0.38650306748466257\n",
      "Sub-Category: 300 num_cases: 62 success_frac: 0.46774193548387094\n",
      "Sub-Category: 300 H num_cases: 2 success_frac: 0.5\n",
      "Sub-Category: 4-series Gran Coupe num_cases: 3 success_frac: 0.6666666666666666\n",
      "Sub-Category: 4Runner num_cases: 43 success_frac: 0.3488372093023256\n",
      "Sub-Category: 5-Sep num_cases: 1 success_frac: 0.0\n",
      "Sub-Category: 5-series num_cases: 71 success_frac: 0.4225352112676056\n",
      "Sub-Category: 500 num_cases: 3 success_frac: 0.3333333333333333\n",
      "Sub-Category: 500L num_cases: 9 success_frac: 0.4444444444444444\n",
      "Sub-Category: 500X num_cases: 2 success_frac: 0.0\n",
      "Sub-Category: 6-series Gran Coupe num_cases: 1 success_frac: 1.0\n",
      "Sub-Category: 7-series num_cases: 25 success_frac: 0.4\n",
      "Sub-Category: A3 num_cases: 17 success_frac: 0.47058823529411764\n",
      "Sub-Category: A4 num_cases: 74 success_frac: 0.3783783783783784\n",
      "Sub-Category: A6 num_cases: 15 success_frac: 0.5333333333333333\n",
      "Sub-Category: A8 num_cases: 2 success_frac: 1.0\n",
      "Sub-Category: ATS num_cases: 14 success_frac: 0.5714285714285714\n",
      "Sub-Category: Acadia num_cases: 11 success_frac: 0.6363636363636364\n",
      "Sub-Category: Accent num_cases: 56 success_frac: 0.3392857142857143\n",
      "Sub-Category: Accord num_cases: 595 success_frac: 0.45210084033613446\n",
      "Sub-Category: Accord Hybrid num_cases: 17 success_frac: 0.29411764705882354\n",
      "Sub-Category: Allroad num_cases: 1 success_frac: 1.0\n",
      "Sub-Category: Altima num_cases: 422 success_frac: 0.42890995260663506\n",
      "Sub-Category: Altima Hybrid num_cases: 18 success_frac: 0.2777777777777778\n",
      "Sub-Category: Amanti num_cases: 1 success_frac: 1.0\n",
      "Sub-Category: Armada num_cases: 8 success_frac: 0.25\n",
      "Sub-Category: Aspen num_cases: 1 success_frac: 0.0\n",
      "Sub-Category: Aura num_cases: 2 success_frac: 0.0\n",
      "Sub-Category: Avalanche num_cases: 10 success_frac: 0.4\n",
      "Sub-Category: Avalon num_cases: 34 success_frac: 0.4411764705882353\n",
      "Sub-Category: Avenger num_cases: 45 success_frac: 0.4444444444444444\n",
      "Sub-Category: Aveo num_cases: 22 success_frac: 0.09090909090909091\n",
      "Sub-Category: Aviator num_cases: 2 success_frac: 0.5\n",
      "Sub-Category: Azera num_cases: 3 success_frac: 0.3333333333333333\n",
      "Sub-Category: Baja num_cases: 3 success_frac: 0.0\n",
      "Sub-Category: Beetle num_cases: 1 success_frac: 0.0\n",
      "Sub-Category: Bicycle num_cases: 6 success_frac: 0.16666666666666666\n",
      "Sub-Category: Blazer num_cases: 1 success_frac: 0.0\n",
      "Sub-Category: Borrego num_cases: 2 success_frac: 0.0\n",
      "Sub-Category: Bravada num_cases: 1 success_frac: 1.0\n",
      "Sub-Category: C-Class num_cases: 145 success_frac: 0.4896551724137931\n",
      "Sub-Category: C-Max num_cases: 4 success_frac: 0.75\n",
      "Sub-Category: C-Max Hybrid num_cases: 20 success_frac: 0.7\n",
      "Sub-Category: CC num_cases: 19 success_frac: 0.3157894736842105\n",
      "Sub-Category: CLA-Class num_cases: 22 success_frac: 0.45454545454545453\n",
      "Sub-Category: CLK-Class num_cases: 1 success_frac: 0.0\n",
      "Sub-Category: CLS-Class num_cases: 3 success_frac: 0.3333333333333333\n",
      "Sub-Category: CR-V num_cases: 193 success_frac: 0.46632124352331605\n",
      "Sub-Category: CT num_cases: 21 success_frac: 0.5238095238095238\n",
      "Sub-Category: CT Hybrid num_cases: 8 success_frac: 0.625\n",
      "Sub-Category: CTS num_cases: 20 success_frac: 0.4\n",
      "Sub-Category: CX-5 num_cases: 35 success_frac: 0.4\n",
      "Sub-Category: CX-7 num_cases: 8 success_frac: 0.625\n",
      "Sub-Category: CX-9 num_cases: 10 success_frac: 0.5\n",
      "Sub-Category: Cadenza num_cases: 1 success_frac: 0.0\n",
      "Sub-Category: Caliber num_cases: 18 success_frac: 0.4444444444444444\n",
      "Sub-Category: Camaro num_cases: 2 success_frac: 0.0\n",
      "Sub-Category: Camry num_cases: 683 success_frac: 0.4582723279648609\n",
      "Sub-Category: Camry Hybrid num_cases: 34 success_frac: 0.35294117647058826\n",
      "Sub-Category: Camry Solara num_cases: 2 success_frac: 0.5\n",
      "Sub-Category: Canyon num_cases: 2 success_frac: 0.0\n",
      "Sub-Category: Captiva num_cases: 2 success_frac: 0.0\n",
      "Sub-Category: Caravan num_cases: 37 success_frac: 0.40540540540540543\n",
      "Sub-Category: Cavalier num_cases: 5 success_frac: 0.4\n",
      "Sub-Category: Cayenne num_cases: 10 success_frac: 0.2\n",
      "Sub-Category: Century num_cases: 2 success_frac: 0.5\n",
      "Sub-Category: Charger num_cases: 99 success_frac: 0.37373737373737376\n",
      "Sub-Category: Cherokee num_cases: 9 success_frac: 0.3333333333333333\n",
      "Sub-Category: Civic num_cases: 689 success_frac: 0.47750362844702465\n",
      "Sub-Category: Civic Hybrid num_cases: 12 success_frac: 0.3333333333333333\n",
      "Sub-Category: Classic num_cases: 1 success_frac: 0.0\n",
      "Sub-Category: Cobalt num_cases: 12 success_frac: 0.25\n",
      "Sub-Category: Colorado num_cases: 3 success_frac: 0.3333333333333333\n",
      "Sub-Category: Commander num_cases: 4 success_frac: 1.0\n",
      "Sub-Category: Compass num_cases: 16 success_frac: 0.4375\n",
      "Sub-Category: Continental num_cases: 2 success_frac: 0.0\n",
      "Sub-Category: Cooper num_cases: 8 success_frac: 0.25\n",
      "Sub-Category: Corolla num_cases: 688 success_frac: 0.45203488372093026\n",
      "Sub-Category: Countryman num_cases: 4 success_frac: 0.75\n",
      "Sub-Category: Countryman S num_cases: 8 success_frac: 0.5\n",
      "Sub-Category: Crosstour num_cases: 7 success_frac: 0.42857142857142855\n",
      "Sub-Category: Crown Victoria num_cases: 4 success_frac: 0.75\n",
      "Sub-Category: Cruze num_cases: 109 success_frac: 0.3486238532110092\n",
      "Sub-Category: Cube num_cases: 8 success_frac: 0.5\n",
      "Sub-Category: DTS num_cases: 6 success_frac: 0.16666666666666666\n",
      "Sub-Category: Dakota num_cases: 6 success_frac: 0.5\n",
      "Sub-Category: Dart num_cases: 42 success_frac: 0.35714285714285715\n",
      "Sub-Category: DeVille num_cases: 6 success_frac: 0.5\n",
      "Sub-Category: Delivery num_cases: 6 success_frac: 0.16666666666666666\n",
      "Sub-Category: Durango num_cases: 29 success_frac: 0.3103448275862069\n",
      "Sub-Category: E-150 Cargo - WAV num_cases: 1 success_frac: 0.0\n",
      "Sub-Category: E-Class num_cases: 70 success_frac: 0.45714285714285713\n",
      "Sub-Category: ES num_cases: 73 success_frac: 0.4931506849315068\n",
      "Sub-Category: EX num_cases: 6 success_frac: 0.3333333333333333\n",
      "Sub-Category: Echo num_cases: 2 success_frac: 1.0\n",
      "Sub-Category: Edge num_cases: 32 success_frac: 0.34375\n",
      "Sub-Category: Elantra num_cases: 255 success_frac: 0.4196078431372549\n",
      "Sub-Category: Element num_cases: 5 success_frac: 0.2\n",
      "Sub-Category: Enclave num_cases: 10 success_frac: 0.6\n",
      "Sub-Category: Encore num_cases: 2 success_frac: 0.0\n",
      "Sub-Category: Endeavor num_cases: 7 success_frac: 0.7142857142857143\n",
      "Sub-Category: Entourage num_cases: 4 success_frac: 0.25\n",
      "Sub-Category: Envoy num_cases: 9 success_frac: 0.4444444444444444\n",
      "Sub-Category: Equinox num_cases: 59 success_frac: 0.3220338983050847\n",
      "Sub-Category: Equus num_cases: 3 success_frac: 0.6666666666666666\n",
      "Sub-Category: Escalade num_cases: 22 success_frac: 0.22727272727272727\n",
      "Sub-Category: Escape num_cases: 107 success_frac: 0.5327102803738317\n",
      "Sub-Category: Escape Hybrid num_cases: 5 success_frac: 0.6\n",
      "Sub-Category: Expedition num_cases: 38 success_frac: 0.3684210526315789\n",
      "Sub-Category: Explorer num_cases: 67 success_frac: 0.4626865671641791\n",
      "Sub-Category: F-150 num_cases: 36 success_frac: 0.3333333333333333\n",
      "Sub-Category: F-250 num_cases: 2 success_frac: 0.5\n",
      "Sub-Category: F-350 num_cases: 1 success_frac: 0.0\n",
      "Sub-Category: F350 num_cases: 2 success_frac: 0.0\n",
      "Sub-Category: FJ Cruiser num_cases: 5 success_frac: 0.0\n",
      "Sub-Category: FR-S num_cases: 1 success_frac: 0.0\n",
      "Sub-Category: FX num_cases: 17 success_frac: 0.5294117647058824\n",
      "Sub-Category: Fiesta num_cases: 34 success_frac: 0.47058823529411764\n",
      "Sub-Category: Fit num_cases: 88 success_frac: 0.4659090909090909\n",
      "Sub-Category: Five Hundred num_cases: 2 success_frac: 0.0\n",
      "Sub-Category: Flex num_cases: 21 success_frac: 0.6666666666666666\n",
      "Sub-Category: Focus num_cases: 158 success_frac: 0.379746835443038\n",
      "Sub-Category: Forenza num_cases: 3 success_frac: 0.0\n",
      "Sub-Category: Forester num_cases: 45 success_frac: 0.37777777777777777\n",
      "Sub-Category: Forte num_cases: 84 success_frac: 0.42857142857142855\n",
      "Sub-Category: Freestar num_cases: 5 success_frac: 0.6\n",
      "Sub-Category: Freestyle num_cases: 7 success_frac: 0.42857142857142855\n",
      "Sub-Category: Frontier num_cases: 16 success_frac: 0.5625\n",
      "Sub-Category: Fusion num_cases: 186 success_frac: 0.478494623655914\n",
      "Sub-Category: Fusion Hybrid num_cases: 1 success_frac: 0.0\n",
      "Sub-Category: G Sedan num_cases: 58 success_frac: 0.29310344827586204\n",
      "Sub-Category: G3 num_cases: 1 success_frac: 0.0\n",
      "Sub-Category: G6 num_cases: 13 success_frac: 0.3076923076923077\n",
      "Sub-Category: GL-Class num_cases: 13 success_frac: 0.3076923076923077\n",
      "Sub-Category: GLA-Class num_cases: 6 success_frac: 0.8333333333333334\n",
      "Sub-Category: GLI num_cases: 4 success_frac: 0.5\n",
      "Sub-Category: GLK-Class num_cases: 15 success_frac: 0.13333333333333333\n",
      "Sub-Category: GS num_cases: 32 success_frac: 0.375\n",
      "Sub-Category: GS Hybrid num_cases: 8 success_frac: 0.25\n",
      "Sub-Category: GTI num_cases: 13 success_frac: 0.3076923076923077\n",
      "Sub-Category: GX num_cases: 8 success_frac: 0.75\n",
      "Sub-Category: Galant num_cases: 13 success_frac: 0.3076923076923077\n",
      "Sub-Category: Genesis num_cases: 16 success_frac: 0.4375\n",
      "Sub-Category: Ghibli num_cases: 2 success_frac: 0.5\n",
      "Sub-Category: Golf num_cases: 22 success_frac: 0.5909090909090909\n",
      "Sub-Category: Grand Am num_cases: 5 success_frac: 0.2\n",
      "Sub-Category: Grand Caravan num_cases: 20 success_frac: 0.5\n",
      "Sub-Category: Grand Cherokee num_cases: 82 success_frac: 0.43902439024390244\n",
      "Sub-Category: Grand Marquis num_cases: 3 success_frac: 0.3333333333333333\n",
      "Sub-Category: Grand Prix num_cases: 4 success_frac: 0.5\n",
      "Sub-Category: Grand Vitara num_cases: 1 success_frac: 0.0\n",
      "Sub-Category: H2 num_cases: 4 success_frac: 0.5\n",
      "Sub-Category: H3 num_cases: 3 success_frac: 0.0\n",
      "Sub-Category: HHR num_cases: 19 success_frac: 0.5263157894736842\n",
      "Sub-Category: HR-V num_cases: 14 success_frac: 0.42857142857142855\n",
      "Sub-Category: HS Hybrid num_cases: 3 success_frac: 0.3333333333333333\n",
      "Sub-Category: Highlander num_cases: 106 success_frac: 0.4716981132075472\n",
      "Sub-Category: I num_cases: 3 success_frac: 0.6666666666666666\n",
      "Sub-Category: ILX num_cases: 14 success_frac: 0.6428571428571429\n",
      "Sub-Category: IS num_cases: 94 success_frac: 0.4787234042553192\n",
      "Sub-Category: Impala num_cases: 69 success_frac: 0.42028985507246375\n",
      "Sub-Category: Impreza num_cases: 64 success_frac: 0.390625\n",
      "Sub-Category: Insight Hybrid num_cases: 21 success_frac: 0.47619047619047616\n",
      "Sub-Category: Ion num_cases: 8 success_frac: 0.375\n",
      "Sub-Category: JX num_cases: 4 success_frac: 0.75\n",
      "Sub-Category: Jetta num_cases: 205 success_frac: 0.5024390243902439\n",
      "Sub-Category: Jetta Hybrid num_cases: 1 success_frac: 0.0\n",
      "Sub-Category: Jetta SportWagen num_cases: 56 success_frac: 0.26785714285714285\n",
      "Sub-Category: Journey num_cases: 37 success_frac: 0.43243243243243246\n",
      "Sub-Category: Juke num_cases: 24 success_frac: 0.5833333333333334\n",
      "Sub-Category: K900 num_cases: 3 success_frac: 0.6666666666666666\n",
      "Sub-Category: Kizashi num_cases: 2 success_frac: 0.5\n",
      "Sub-Category: L300 num_cases: 1 success_frac: 0.0\n",
      "Sub-Category: LEAF num_cases: 23 success_frac: 0.6086956521739131\n",
      "Sub-Category: LR4 num_cases: 2 success_frac: 0.0\n",
      "Sub-Category: LS num_cases: 7 success_frac: 0.7142857142857143\n",
      "Sub-Category: LX num_cases: 1 success_frac: 0.0\n",
      "Sub-Category: LaCrosse num_cases: 13 success_frac: 0.5384615384615384\n",
      "Sub-Category: Lancer num_cases: 39 success_frac: 0.23076923076923078\n",
      "Sub-Category: Land Rover num_cases: 2 success_frac: 0.0\n",
      "Sub-Category: LeSabre num_cases: 3 success_frac: 0.3333333333333333\n",
      "Sub-Category: Legacy num_cases: 26 success_frac: 0.4230769230769231\n",
      "Sub-Category: Liberty num_cases: 20 success_frac: 0.35\n",
      "Sub-Category: Lucerne num_cases: 4 success_frac: 0.25\n",
      "Sub-Category: M num_cases: 14 success_frac: 0.2857142857142857\n",
      "Sub-Category: M-Class num_cases: 16 success_frac: 0.3125\n",
      "Sub-Category: MAZDA2 num_cases: 6 success_frac: 0.3333333333333333\n",
      "Sub-Category: MAZDA3 num_cases: 146 success_frac: 0.4452054794520548\n",
      "Sub-Category: MAZDA5 num_cases: 13 success_frac: 0.5384615384615384\n",
      "Sub-Category: MAZDA6 num_cases: 59 success_frac: 0.3728813559322034\n",
      "Sub-Category: MDX num_cases: 39 success_frac: 0.48717948717948717\n",
      "Sub-Category: MKC num_cases: 2 success_frac: 0.5\n",
      "Sub-Category: MKS num_cases: 4 success_frac: 0.5\n",
      "Sub-Category: MKT num_cases: 3 success_frac: 0.3333333333333333\n",
      "Sub-Category: MKX num_cases: 3 success_frac: 0.6666666666666666\n",
      "Sub-Category: MKZ num_cases: 13 success_frac: 0.46153846153846156\n",
      "Sub-Category: ML 350 num_cases: 21 success_frac: 0.42857142857142855\n",
      "Sub-Category: ML Class num_cases: 1 success_frac: 1.0\n",
      "Sub-Category: MPV num_cases: 7 success_frac: 0.7142857142857143\n",
      "Sub-Category: Magnum num_cases: 10 success_frac: 0.4\n",
      "Sub-Category: Malibu num_cases: 127 success_frac: 0.5118110236220472\n",
      "Sub-Category: Mariner num_cases: 4 success_frac: 1.0\n",
      "Sub-Category: Matrix num_cases: 38 success_frac: 0.6052631578947368\n",
      "Sub-Category: Maxima num_cases: 58 success_frac: 0.41379310344827586\n",
      "Sub-Category: Metris num_cases: 1 success_frac: 0.0\n",
      "Sub-Category: Mirage num_cases: 10 success_frac: 0.1\n",
      "Sub-Category: Model S num_cases: 13 success_frac: 0.3076923076923077\n",
      "Sub-Category: Monterey num_cases: 1 success_frac: 0.0\n",
      "Sub-Category: Montero num_cases: 9 success_frac: 0.3333333333333333\n",
      "Sub-Category: Mountaineer num_cases: 1 success_frac: 0.0\n",
      "Sub-Category: Murano num_cases: 39 success_frac: 0.358974358974359\n",
      "Sub-Category: Mustang num_cases: 2 success_frac: 0.5\n",
      "Sub-Category: NX num_cases: 4 success_frac: 0.25\n",
      "Sub-Category: Navigator num_cases: 6 success_frac: 0.16666666666666666\n",
      "Sub-Category: Navigator L num_cases: 5 success_frac: 0.4\n",
      "Sub-Category: Neon num_cases: 7 success_frac: 0.42857142857142855\n",
      "Sub-Category: Nitro num_cases: 11 success_frac: 0.5454545454545454\n",
      "Sub-Category: Odyssey num_cases: 113 success_frac: 0.5132743362831859\n",
      "Sub-Category: Optima num_cases: 212 success_frac: 0.41037735849056606\n",
      "Sub-Category: Optimus Prime num_cases: 8 success_frac: 0.125\n",
      "Sub-Category: Outback num_cases: 38 success_frac: 0.4473684210526316\n",
      "Sub-Category: Outlander num_cases: 35 success_frac: 0.42857142857142855\n",
      "Sub-Category: Outlook num_cases: 2 success_frac: 1.0\n",
      "Sub-Category: PT Cruiser num_cases: 28 success_frac: 0.2857142857142857\n",
      "Sub-Category: Pacifica num_cases: 2 success_frac: 0.0\n",
      "Sub-Category: Passat num_cases: 120 success_frac: 0.4\n",
      "Sub-Category: Pathfinder num_cases: 27 success_frac: 0.3333333333333333\n",
      "Sub-Category: Patriot num_cases: 38 success_frac: 0.47368421052631576\n",
      "Sub-Category: Pilot num_cases: 84 success_frac: 0.5\n",
      "Sub-Category: Prius num_cases: 369 success_frac: 0.5636856368563685\n",
      "Sub-Category: Prius C num_cases: 118 success_frac: 0.5338983050847458\n",
      "Sub-Category: Prius V num_cases: 522 success_frac: 0.4942528735632184\n",
      "Sub-Category: Prius+ num_cases: 52 success_frac: 0.5192307692307693\n",
      "Sub-Category: Prizm num_cases: 1 success_frac: 0.0\n",
      "Sub-Category: Protege num_cases: 2 success_frac: 0.5\n",
      "Sub-Category: Q3 num_cases: 2 success_frac: 0.5\n",
      "Sub-Category: Q40 num_cases: 3 success_frac: 0.6666666666666666\n",
      "Sub-Category: Q45 num_cases: 1 success_frac: 1.0\n",
      "Sub-Category: Q5 num_cases: 20 success_frac: 0.45\n",
      "Sub-Category: Q50 num_cases: 26 success_frac: 0.4230769230769231\n",
      "Sub-Category: Q7 num_cases: 11 success_frac: 0.2727272727272727\n",
      "Sub-Category: QX4 num_cases: 1 success_frac: 0.0\n",
      "Sub-Category: QX50 num_cases: 1 success_frac: 1.0\n",
      "Sub-Category: QX56 num_cases: 5 success_frac: 0.6\n",
      "Sub-Category: QX60 num_cases: 8 success_frac: 0.25\n",
      "Sub-Category: Quest num_cases: 18 success_frac: 0.4444444444444444\n",
      "Sub-Category: R-Class num_cases: 14 success_frac: 0.5714285714285714\n",
      "Sub-Category: RAV4 num_cases: 189 success_frac: 0.47619047619047616\n",
      "Sub-Category: RDX num_cases: 22 success_frac: 0.45454545454545453\n",
      "Sub-Category: RL num_cases: 4 success_frac: 0.25\n",
      "Sub-Category: RLX num_cases: 1 success_frac: 0.0\n",
      "Sub-Category: RX num_cases: 76 success_frac: 0.4868421052631579\n",
      "Sub-Category: Rabbit num_cases: 6 success_frac: 0.5\n",
      "Sub-Category: Rainier num_cases: 1 success_frac: 0.0\n",
      "Sub-Category: Ram 1500 num_cases: 24 success_frac: 0.4583333333333333\n",
      "Sub-Category: Ram 2500 num_cases: 2 success_frac: 0.0\n",
      "Sub-Category: Range Rover num_cases: 16 success_frac: 0.25\n",
      "Sub-Category: Regal num_cases: 2 success_frac: 1.0\n",
      "Sub-Category: Rendezvous num_cases: 3 success_frac: 0.0\n",
      "Sub-Category: Renegade num_cases: 9 success_frac: 0.5555555555555556\n",
      "Sub-Category: Ridgeline num_cases: 7 success_frac: 0.2857142857142857\n",
      "Sub-Category: Rio num_cases: 34 success_frac: 0.35294117647058826\n",
      "Sub-Category: Rodeo num_cases: 2 success_frac: 0.5\n",
      "Sub-Category: Rogue num_cases: 103 success_frac: 0.4174757281553398\n",
      "Sub-Category: Rondo num_cases: 1 success_frac: 0.0\n",
      "Sub-Category: Routan num_cases: 2 success_frac: 1.0\n",
      "Sub-Category: S-Class num_cases: 20 success_frac: 0.2\n",
      "Sub-Category: S-Type num_cases: 7 success_frac: 0.5714285714285714\n",
      "Sub-Category: S4 num_cases: 2 success_frac: 0.5\n",
      "Sub-Category: S40 num_cases: 13 success_frac: 0.15384615384615385\n",
      "Sub-Category: S60 num_cases: 13 success_frac: 0.23076923076923078\n",
      "Sub-Category: S80 num_cases: 6 success_frac: 0.5\n",
      "Sub-Category: SL1 num_cases: 2 success_frac: 0.0\n",
      "Sub-Category: SL2 num_cases: 1 success_frac: 0.0\n",
      "Sub-Category: SRX num_cases: 12 success_frac: 0.5833333333333334\n",
      "Sub-Category: SSR num_cases: 1 success_frac: 0.0\n",
      "Sub-Category: STS num_cases: 3 success_frac: 0.3333333333333333\n",
      "Sub-Category: SX4 num_cases: 1 success_frac: 1.0\n",
      "Sub-Category: Safari num_cases: 1 success_frac: 0.0\n",
      "Sub-Category: Santa Fe num_cases: 45 success_frac: 0.4222222222222222\n",
      "Sub-Category: Santa Fe Sport num_cases: 6 success_frac: 0.3333333333333333\n",
      "Sub-Category: Sebring num_cases: 7 success_frac: 0.42857142857142855\n",
      "Sub-Category: Sedona num_cases: 13 success_frac: 0.38461538461538464\n",
      "Sub-Category: Sentra num_cases: 330 success_frac: 0.4121212121212121\n",
      "Sub-Category: Sequoia num_cases: 18 success_frac: 0.2777777777777778\n",
      "Sub-Category: Sienna num_cases: 154 success_frac: 0.4935064935064935\n",
      "Sub-Category: Sierra num_cases: 4 success_frac: 0.5\n",
      "Sub-Category: Sierra 1500 num_cases: 5 success_frac: 0.6\n",
      "Sub-Category: Silverado 1500 num_cases: 25 success_frac: 0.28\n",
      "Sub-Category: Silverado 1500 4door num_cases: 1 success_frac: 1.0\n",
      "Sub-Category: Silverado 2500HD num_cases: 3 success_frac: 0.3333333333333333\n",
      "Sub-Category: Sonata num_cases: 259 success_frac: 0.44015444015444016\n",
      "Sub-Category: Sonic num_cases: 23 success_frac: 0.30434782608695654\n",
      "Sub-Category: Sorento num_cases: 68 success_frac: 0.4264705882352941\n",
      "Sub-Category: Soul num_cases: 117 success_frac: 0.5555555555555556\n",
      "Sub-Category: Spark num_cases: 13 success_frac: 0.5384615384615384\n",
      "Sub-Category: Spectra num_cases: 22 success_frac: 0.4090909090909091\n",
      "Sub-Category: Sportage num_cases: 26 success_frac: 0.3076923076923077\n",
      "Sub-Category: Stratus num_cases: 6 success_frac: 0.5\n",
      "Sub-Category: Suburban num_cases: 27 success_frac: 0.37037037037037035\n",
      "Sub-Category: TL num_cases: 18 success_frac: 0.6111111111111112\n",
      "Sub-Category: TLX num_cases: 48 success_frac: 0.4166666666666667\n",
      "Sub-Category: TSX num_cases: 43 success_frac: 0.4418604651162791\n",
      "Sub-Category: Tacoma num_cases: 51 success_frac: 0.37254901960784315\n",
      "Sub-Category: Tahoe num_cases: 52 success_frac: 0.4230769230769231\n",
      "Sub-Category: Taurus num_cases: 21 success_frac: 0.42857142857142855\n",
      "Sub-Category: Taurus X num_cases: 17 success_frac: 0.29411764705882354\n",
      "Sub-Category: Terrain num_cases: 13 success_frac: 0.6153846153846154\n",
      "Sub-Category: Tiguan num_cases: 23 success_frac: 0.5217391304347826\n",
      "Sub-Category: Titan num_cases: 4 success_frac: 0.25\n",
      "Sub-Category: Torrent num_cases: 1 success_frac: 0.0\n",
      "Sub-Category: Touareg num_cases: 6 success_frac: 0.3333333333333333\n",
      "Sub-Category: Town Car num_cases: 31 success_frac: 0.5483870967741935\n",
      "Sub-Category: Town and Country num_cases: 42 success_frac: 0.35714285714285715\n",
      "Sub-Category: Tracker num_cases: 2 success_frac: 0.0\n",
      "Sub-Category: Trailblazer num_cases: 23 success_frac: 0.30434782608695654\n",
      "Sub-Category: Transit Connect num_cases: 2 success_frac: 0.5\n",
      "Sub-Category: Traverse num_cases: 22 success_frac: 0.45454545454545453\n",
      "Sub-Category: Trax num_cases: 2 success_frac: 0.5\n",
      "Sub-Category: Tribeca num_cases: 2 success_frac: 0.5\n",
      "Sub-Category: Tribute num_cases: 6 success_frac: 0.5\n",
      "Sub-Category: Tucson num_cases: 24 success_frac: 0.5833333333333334\n",
      "Sub-Category: Tundra num_cases: 29 success_frac: 0.3793103448275862\n",
      "Sub-Category: Uplander num_cases: 5 success_frac: 0.6\n",
      "Sub-Category: V50 num_cases: 2 success_frac: 0.5\n",
      "Sub-Category: V70 num_cases: 2 success_frac: 0.0\n",
      "Sub-Category: VUE num_cases: 14 success_frac: 0.6428571428571429\n",
      "Sub-Category: Veloster num_cases: 1 success_frac: 0.0\n",
      "Sub-Category: Venture num_cases: 1 success_frac: 1.0\n",
      "Sub-Category: Venza num_cases: 23 success_frac: 0.5652173913043478\n",
      "Sub-Category: Veracruz num_cases: 3 success_frac: 0.3333333333333333\n",
      "Sub-Category: Verano num_cases: 6 success_frac: 0.6666666666666666\n",
      "Sub-Category: Versa num_cases: 192 success_frac: 0.4583333333333333\n",
      "Sub-Category: Vibe num_cases: 6 success_frac: 0.16666666666666666\n",
      "Sub-Category: Vitara num_cases: 1 success_frac: 1.0\n",
      "Sub-Category: Volt num_cases: 23 success_frac: 0.34782608695652173\n",
      "Sub-Category: Voyager num_cases: 1 success_frac: 0.0\n",
      "Sub-Category: WRX num_cases: 11 success_frac: 0.45454545454545453\n",
      "Sub-Category: Wrangler num_cases: 25 success_frac: 0.36\n",
      "Sub-Category: X-Type num_cases: 3 success_frac: 0.3333333333333333\n",
      "Sub-Category: X1 num_cases: 14 success_frac: 0.35714285714285715\n",
      "Sub-Category: X3 num_cases: 17 success_frac: 0.7058823529411765\n",
      "Sub-Category: X5 num_cases: 30 success_frac: 0.5\n",
      "Sub-Category: X6 num_cases: 5 success_frac: 0.0\n",
      "Sub-Category: XC60 num_cases: 2 success_frac: 0.5\n",
      "Sub-Category: XC70 num_cases: 7 success_frac: 0.2857142857142857\n",
      "Sub-Category: XC90 num_cases: 12 success_frac: 0.25\n",
      "Sub-Category: XF num_cases: 3 success_frac: 0.3333333333333333\n",
      "Sub-Category: XG350 num_cases: 2 success_frac: 0.5\n",
      "Sub-Category: XJ num_cases: 2 success_frac: 0.5\n",
      "Sub-Category: XL7 num_cases: 4 success_frac: 0.75\n",
      "Sub-Category: XTS num_cases: 3 success_frac: 1.0\n",
      "Sub-Category: XV Crosstrek num_cases: 32 success_frac: 0.53125\n",
      "Sub-Category: Xterra num_cases: 21 success_frac: 0.47619047619047616\n",
      "Sub-Category: Yaris num_cases: 59 success_frac: 0.3898305084745763\n",
      "Sub-Category: Yukon num_cases: 44 success_frac: 0.4090909090909091\n",
      "Sub-Category: ZDX num_cases: 1 success_frac: 0.0\n",
      "Sub-Category: Zephyr num_cases: 1 success_frac: 0.0\n",
      "Sub-Category: e-Golf num_cases: 25 success_frac: 0.4\n",
      "Sub-Category: i3 num_cases: 1 success_frac: 0.0\n",
      "Sub-Category: iA num_cases: 14 success_frac: 0.35714285714285715\n",
      "Sub-Category: iM num_cases: 19 success_frac: 0.5263157894736842\n",
      "Sub-Category: tC num_cases: 7 success_frac: 0.0\n",
      "Sub-Category: xA num_cases: 7 success_frac: 0.5714285714285714\n",
      "Sub-Category: xB num_cases: 92 success_frac: 0.5434782608695652\n",
      "Sub-Category: xD num_cases: 24 success_frac: 0.4166666666666667\n",
      "----------------------\n"
     ]
    }
   ],
   "source": [
    "# analyzing differnt categories for cities\n",
    "for cat_col in ['city_name', 'signup_os', 'signup_channel', 'vehicle_make', 'vehicle_model']:\n",
    "    print(\"Category: \" + cat_col)\n",
    "    for categ in driver[cat_col].cat.categories:\n",
    "        cat_df = driver[driver[cat_col] == categ]['target']\n",
    "        num_cases = len(cat_df)\n",
    "        success_frac = cat_df.sum()/num_cases\n",
    "        print(\"Sub-Category: \" + str(categ) + \" num_cases: \" + str(num_cases) + \" success_frac: \" + str(success_frac))\n",
    "    print(\"----------------------\")"
   ]
  },
  {
   "cell_type": "code",
   "execution_count": null,
   "metadata": {
    "collapsed": true
   },
   "outputs": [],
   "source": []
  },
  {
   "cell_type": "markdown",
   "metadata": {},
   "source": [
    "Lets check distribution of drivers by city"
   ]
  },
  {
   "cell_type": "code",
   "execution_count": 710,
   "metadata": {
    "collapsed": false
   },
   "outputs": [
    {
     "data": {
      "text/plain": [
       "Strark     29557\n",
       "Berton     20117\n",
       "Wrouver     5007\n",
       "dtype: int64"
      ]
     },
     "execution_count": 710,
     "metadata": {},
     "output_type": "execute_result"
    }
   ],
   "source": [
    "driver['city_name'].value_counts()"
   ]
  },
  {
   "cell_type": "code",
   "execution_count": 711,
   "metadata": {
    "collapsed": false
   },
   "outputs": [
    {
     "data": {
      "text/plain": [
       "<matplotlib.axes._subplots.AxesSubplot at 0x128ca8908>"
      ]
     },
     "execution_count": 711,
     "metadata": {},
     "output_type": "execute_result"
    },
    {
     "data": {
      "image/png": "[encoded data removed]",
      "text/plain": [
       "<matplotlib.figure.Figure at 0x126d09278>"
      ]
     },
     "metadata": {},
     "output_type": "display_data"
    }
   ],
   "source": [
    "\n",
    "sns.countplot(x=\"city_name\", data=driver)"
   ]
  },
  {
   "cell_type": "markdown",
   "metadata": {},
   "source": [
    "We can see most number of drivers are from Strank city "
   ]
  },
  {
   "cell_type": "markdown",
   "metadata": {},
   "source": [
    "Now lets separate the city drivers by driver who completed trip vs who did not "
   ]
  },
  {
   "cell_type": "code",
   "execution_count": 428,
   "metadata": {
    "collapsed": false
   },
   "outputs": [
    {
     "data": {
      "image/png": "[encoded data removed]",
      "text/plain": [
       "<matplotlib.figure.Figure at 0x127c871d0>"
      ]
     },
     "metadata": {},
     "output_type": "display_data"
    }
   ],
   "source": [
    "sns.countplot(x=\"city_name\", data=driver, hue = 'target');"
   ]
  },
  {
   "cell_type": "code",
   "execution_count": 712,
   "metadata": {
    "collapsed": false
   },
   "outputs": [
    {
     "data": {
      "image/png": "[encoded data removed]",
      "text/plain": [
       "<matplotlib.figure.Figure at 0x12feae908>"
      ]
     },
     "metadata": {},
     "output_type": "display_data"
    },
    {
     "data": {
      "image/png": "[encoded data removed]",
      "text/plain": [
       "<matplotlib.figure.Figure at 0x12a3d4da0>"
      ]
     },
     "metadata": {},
     "output_type": "display_data"
    }
   ],
   "source": [
    "sns.factorplot('city_name','target', data=driver,size=4,aspect=3)\n",
    "\n",
    "fig, (axis1,axis2,axis3) = plt.subplots(1,3,figsize=(15,5))\n",
    "\n",
    "sns.countplot(x='city_name', data=driver, ax=axis1)\n",
    "sns.countplot(x='target', hue=\"city_name\", data=driver, order=[1,0], ax=axis2)\n",
    "\n",
    "# group by signup_os, and get the mean for complete_trip_flag for each value in signup_os\n",
    "city_perc = driver[[\"city_name\", \"target\"]].groupby(['city_name'],as_index=False).mean()\n",
    "sns.barplot(x='city_name', y='target', data = city_perc)\n",
    "\n",
    "#lets add dummy columns for the  to driver dataframe and drop the signup_os column\n",
    "city_dummies_driver  = pd.get_dummies(driver['city_name'])\n",
    "\n",
    "driver = driver.join(city_dummies_driver)\n",
    "driver.drop(['city_name'], axis=1,inplace=True)"
   ]
  },
  {
   "cell_type": "code",
   "execution_count": null,
   "metadata": {
    "collapsed": true
   },
   "outputs": [],
   "source": []
  },
  {
   "cell_type": "markdown",
   "metadata": {
    "collapsed": true
   },
   "source": [
    "## Lets visualize the importance of the signup_os and convert it to dummy variable"
   ]
  },
  {
   "cell_type": "code",
   "execution_count": 376,
   "metadata": {
    "collapsed": false
   },
   "outputs": [
    {
     "data": {
      "text/plain": [
       "6"
      ]
     },
     "execution_count": 376,
     "metadata": {},
     "output_type": "execute_result"
    }
   ],
   "source": [
    "#how many different types of OS do our drivers using\n",
    "len(driver['signup_os'].unique())\n"
   ]
  },
  {
   "cell_type": "code",
   "execution_count": 402,
   "metadata": {
    "collapsed": false
   },
   "outputs": [
    {
     "data": {
      "text/plain": [
       "[ios web, windows, android web, NaN, mac, other]\n",
       "Categories (5, object): [ios web, windows, android web, mac, other]"
      ]
     },
     "execution_count": 402,
     "metadata": {},
     "output_type": "execute_result"
    }
   ],
   "source": [
    "#what all are the different OS that drivers using\n",
    "driver['signup_os'].unique()"
   ]
  },
  {
   "cell_type": "markdown",
   "metadata": {},
   "source": [
    "Lets look at the number of drivers who have using different os"
   ]
  },
  {
   "cell_type": "code",
   "execution_count": 403,
   "metadata": {
    "collapsed": false
   },
   "outputs": [
    {
     "data": {
      "text/plain": [
       "ios web        16632\n",
       "android web    14944\n",
       "windows         6776\n",
       "mac             5824\n",
       "other           3648\n",
       "dtype: int64"
      ]
     },
     "execution_count": 403,
     "metadata": {},
     "output_type": "execute_result"
    }
   ],
   "source": [
    "driver['signup_os'].value_counts()"
   ]
  },
  {
   "cell_type": "code",
   "execution_count": 404,
   "metadata": {
    "collapsed": false
   },
   "outputs": [
    {
     "data": {
      "image/png": "[encoded data removed]",
      "text/plain": [
       "<matplotlib.figure.Figure at 0x11d301908>"
      ]
     },
     "metadata": {},
     "output_type": "display_data"
    }
   ],
   "source": [
    "#what is the frequency of drivers in different Os\n",
    "sns.countplot(x=\"signup_os\", data=driver);"
   ]
  },
  {
   "cell_type": "markdown",
   "metadata": {},
   "source": [
    "Lets look at the performance of different OS"
   ]
  },
  {
   "cell_type": "code",
   "execution_count": 405,
   "metadata": {
    "collapsed": false
   },
   "outputs": [
    {
     "data": {
      "image/png": "[encoded data removed]",
      "text/plain": [
       "<matplotlib.figure.Figure at 0x122a62198>"
      ]
     },
     "metadata": {},
     "output_type": "display_data"
    }
   ],
   "source": [
    "sns.countplot(x=\"signup_os\", data=driver, hue = 'target');"
   ]
  },
  {
   "cell_type": "code",
   "execution_count": 424,
   "metadata": {
    "collapsed": false
   },
   "outputs": [
    {
     "name": "stdout",
     "output_type": "stream",
     "text": [
      "signup_os\n",
      "android web    0.097297\n",
      "ios web        0.131734\n",
      "mac            0.162775\n",
      "other          0.136513\n",
      "windows        0.132527\n",
      "Name: target, dtype: float64\n"
     ]
    }
   ],
   "source": [
    "#lets calculate the fraction of drivers who completed trips on each os platform\n",
    "os_complete_trip = driver.pivot_table(index=\"signup_os\",values=\"target\", aggfunc=np.mean)\n",
    "print(os_complete_trip)"
   ]
  },
  {
   "cell_type": "code",
   "execution_count": 713,
   "metadata": {
    "collapsed": false
   },
   "outputs": [
    {
     "data": {
      "image/png": "[encoded data removed]",
      "text/plain": [
       "<matplotlib.figure.Figure at 0x12e81e748>"
      ]
     },
     "metadata": {},
     "output_type": "display_data"
    },
    {
     "data": {
      "image/png": "[encoded data removed]",
      "text/plain": [
       "<matplotlib.figure.Figure at 0x12e81e630>"
      ]
     },
     "metadata": {},
     "output_type": "display_data"
    }
   ],
   "source": [
    "sns.factorplot('signup_os','target', data=driver,size=4,aspect=3)\n",
    "\n",
    "fig, (axis1,axis2,axis3) = plt.subplots(1,3,figsize=(15,5))\n",
    "\n",
    "sns.countplot(x='signup_os', data=driver, ax=axis1)\n",
    "sns.countplot(x='target', hue=\"signup_os\", data=driver, order=[1,0], ax=axis2)\n",
    "\n",
    "# group by signup_os, and get the mean for complete_trip_flag for each value in signup_os\n",
    "os_perc = driver[[\"signup_os\", \"target\"]].groupby(['signup_os'],as_index=False).mean()\n",
    "sns.barplot(x='signup_os', y='target', data=os_perc)\n",
    "\n",
    "#lets add dummy columns for the  to driver dataframe and drop the signup_os column\n",
    "os_dummies_driver  = pd.get_dummies(driver['signup_os'])\n",
    "\n",
    "driver = driver.join(os_dummies_driver)\n",
    "driver.drop(['signup_os'], axis=1,inplace=True)"
   ]
  },
  {
   "cell_type": "markdown",
   "metadata": {
    "collapsed": true
   },
   "source": [
    "### Looks like macbook conversion is very good and conversion on android is worse. On average conversion rate in mac is 5% higher than the average."
   ]
  },
  {
   "cell_type": "markdown",
   "metadata": {
    "collapsed": true
   },
   "source": [
    "## Lets visualize the importance of signup_channel and add the dummies variables for the same to dataframe  "
   ]
  },
  {
   "cell_type": "code",
   "execution_count": 409,
   "metadata": {
    "collapsed": false
   },
   "outputs": [
    {
     "data": {
      "text/plain": [
       "Paid        23938\n",
       "Referral    17316\n",
       "Organic     13427\n",
       "dtype: int64"
      ]
     },
     "execution_count": 409,
     "metadata": {},
     "output_type": "execute_result"
    }
   ],
   "source": [
    "driver['signup_channel'].value_counts()"
   ]
  },
  {
   "cell_type": "code",
   "execution_count": 410,
   "metadata": {
    "collapsed": false
   },
   "outputs": [
    {
     "data": {
      "image/png": "[encoded data removed]",
      "text/plain": [
       "<matplotlib.figure.Figure at 0x126aa4c88>"
      ]
     },
     "metadata": {},
     "output_type": "display_data"
    }
   ],
   "source": [
    "sns.countplot(x=\"signup_channel\", data=driver, hue = 'target');"
   ]
  },
  {
   "cell_type": "code",
   "execution_count": 411,
   "metadata": {
    "collapsed": false
   },
   "outputs": [
    {
     "name": "stdout",
     "output_type": "stream",
     "text": [
      "signup_channel\n",
      "Organic     0.090117\n",
      "Paid        0.061910\n",
      "Referral    0.198949\n",
      "Name: target, dtype: float64\n"
     ]
    }
   ],
   "source": [
    "#lets calculate the fraction of drivers who completed trips on each channel \n",
    "channel_complete_trip = driver.pivot_table(index=\"signup_channel\",values=\"target\", aggfunc=np.mean)\n",
    "print(channel_complete_trip)"
   ]
  },
  {
   "cell_type": "markdown",
   "metadata": {},
   "source": [
    "* Looks like Referral channel conversion is best which is what we expected as well, vs in paid channel conversion is lower than organic which is surprising"
   ]
  },
  {
   "cell_type": "code",
   "execution_count": 714,
   "metadata": {
    "collapsed": false
   },
   "outputs": [
    {
     "data": {
      "image/png": "[encoded data removed]",
      "text/plain": [
       "<matplotlib.figure.Figure at 0x127cb3198>"
      ]
     },
     "metadata": {},
     "output_type": "display_data"
    },
    {
     "data": {
      "image/png": "[encoded data removed]",
      "text/plain": [
       "<matplotlib.figure.Figure at 0x127c9a208>"
      ]
     },
     "metadata": {},
     "output_type": "display_data"
    }
   ],
   "source": [
    "sns.factorplot('signup_channel','target', data=driver,size=4,aspect=3)\n",
    "\n",
    "fig, (axis1,axis2,axis3) = plt.subplots(1,3,figsize=(15,5))\n",
    "\n",
    "sns.countplot(x='signup_channel', data=driver, ax=axis1)\n",
    "sns.countplot(x='target', hue=\"signup_channel\", data=driver, order=[1,0], ax=axis2)\n",
    "\n",
    "# group by signup_os, and get the mean for complete_trip_flag for each value in signup_os\n",
    "channel_perc = driver[[\"signup_channel\", \"target\"]].groupby(['signup_channel'],as_index=False).mean()\n",
    "sns.barplot(x='signup_channel', y='target', data = channel_perc)\n",
    "\n",
    "#lets add dummy columns for the  to driver dataframe and drop the signup_os column\n",
    "channel_dummies_driver  = pd.get_dummies(driver['signup_channel'])\n",
    "\n",
    "driver = driver.join(channel_dummies_driver)\n",
    "driver.drop(['signup_channel'], axis=1,inplace=True)\n"
   ]
  },
  {
   "cell_type": "markdown",
   "metadata": {},
   "source": [
    "## What is difference between sinup date and vehicle added date and back ground check date , and how useful               it is to predict whether a driver will start driving or not?"
   ]
  },
  {
   "cell_type": "markdown",
   "metadata": {
    "collapsed": true
   },
   "source": [
    "\n",
    "#### I believe looking at the conversion funnel  can provide some great insights about where we are loosing these drivers."
   ]
  },
  {
   "cell_type": "code",
   "execution_count": 414,
   "metadata": {
    "collapsed": false
   },
   "outputs": [
    {
     "name": "stdout",
     "output_type": "stream",
     "text": [
      "id                      54681\n",
      "city_name               54681\n",
      "signup_os               47824\n",
      "signup_channel          54681\n",
      "signup_date             54681\n",
      "bgc_date                32896\n",
      "vehicle_added_date      13134\n",
      "vehicle_make            13223\n",
      "vehicle_model           13223\n",
      "vehicle_year            13223\n",
      "first_completed_date     6137\n",
      "target                  54681\n",
      "dtype: int64\n"
     ]
    }
   ],
   "source": [
    "def not_null_count(column):\n",
    "    column_null = pd.isnull(column)\n",
    "    null = column[column_null == False]\n",
    "    return len(null)\n",
    "\n",
    "column_not_null_count = driver.apply(not_null_count)\n",
    "print(column_not_null_count)"
   ]
  },
  {
   "cell_type": "markdown",
   "metadata": {
    "collapsed": true
   },
   "source": [
    "##### So as we can see that we  almost almost 40% doesn't turn in the background check forms and  those who gave the background check form 60% doesn't add vehicles so there might be something wrong at the background check step"
   ]
  },
  {
   "cell_type": "code",
   "execution_count": null,
   "metadata": {
    "collapsed": true
   },
   "outputs": [],
   "source": []
  },
  {
   "cell_type": "markdown",
   "metadata": {},
   "source": [
    "###### check if background_check predicts target"
   ]
  },
  {
   "cell_type": "code",
   "execution_count": 415,
   "metadata": {
    "collapsed": false
   },
   "outputs": [
    {
     "data": {
      "text/plain": [
       "0.28934602318676839"
      ]
     },
     "execution_count": 415,
     "metadata": {},
     "output_type": "execute_result"
    }
   ],
   "source": [
    "\n",
    "\n",
    "driver['target'].corr(~driver['bgc_date'].isnull())\n"
   ]
  },
  {
   "cell_type": "markdown",
   "metadata": {},
   "source": [
    "### It does!"
   ]
  },
  {
   "cell_type": "markdown",
   "metadata": {},
   "source": [
    "##### check if vehicle being added predicts target"
   ]
  },
  {
   "cell_type": "code",
   "execution_count": 435,
   "metadata": {
    "collapsed": false
   },
   "outputs": [
    {
     "data": {
      "text/plain": [
       "0.59644589633493639"
      ]
     },
     "execution_count": 435,
     "metadata": {},
     "output_type": "execute_result"
    }
   ],
   "source": [
    "\n",
    "driver['target'].corr(~driver['vehicle_added_date'].isnull())\n"
   ]
  },
  {
   "cell_type": "markdown",
   "metadata": {},
   "source": [
    "### It does!"
   ]
  },
  {
   "cell_type": "markdown",
   "metadata": {},
   "source": [
    "###### check eagerness of drivers, time taken between signup and bgc check"
   ]
  },
  {
   "cell_type": "code",
   "execution_count": 422,
   "metadata": {
    "collapsed": false
   },
   "outputs": [
    {
     "data": {
      "text/plain": [
       "-0.30567552073346776"
      ]
     },
     "execution_count": 422,
     "metadata": {},
     "output_type": "execute_result"
    }
   ],
   "source": [
    "\n",
    "bgc_df = driver[~driver['bgc_date'].isnull()]\n",
    "(bgc_df['bgc_date'] - bgc_df['signup_date']).apply(lambda x: x.days).corr(bgc_df['target'])\n"
   ]
  },
  {
   "cell_type": "markdown",
   "metadata": {},
   "source": [
    "##### Negatively correlated! this means more eager drivers get their background checks done pretty soon after signup"
   ]
  },
  {
   "cell_type": "code",
   "execution_count": 430,
   "metadata": {
    "collapsed": true
   },
   "outputs": [],
   "source": [
    "# check eagerness of drivers, time taken between signup and vehicle addition"
   ]
  },
  {
   "cell_type": "code",
   "execution_count": 432,
   "metadata": {
    "collapsed": false
   },
   "outputs": [
    {
     "data": {
      "text/plain": [
       "-0.58662637218132641"
      ]
     },
     "execution_count": 432,
     "metadata": {},
     "output_type": "execute_result"
    }
   ],
   "source": [
    "\n",
    "\n",
    "va_df = driver[(~driver['vehicle_added_date'].isnull())]\n",
    "(va_df['vehicle_added_date'] - va_df['signup_date']).apply(lambda x: x.days).corr(va_df['target'])\n"
   ]
  },
  {
   "cell_type": "markdown",
   "metadata": {},
   "source": [
    "#### Negatively correlated! this means that the eagerness intuition holds - we can use both of these as indicators"
   ]
  },
  {
   "cell_type": "code",
   "execution_count": 715,
   "metadata": {
    "collapsed": true
   },
   "outputs": [],
   "source": [
    "# construct background check flag variable\n",
    "driver.loc[:, 'bgc_flag'] = 0\n",
    "driver.loc[~driver['bgc_date'].isnull(), 'bgc_flag'] = 1"
   ]
  },
  {
   "cell_type": "code",
   "execution_count": 83,
   "metadata": {
    "collapsed": true
   },
   "outputs": [],
   "source": []
  },
  {
   "cell_type": "code",
   "execution_count": 716,
   "metadata": {
    "collapsed": true
   },
   "outputs": [],
   "source": [
    "# construct vehicle add check flag variable\n",
    "driver.loc[:, 'vehicle_add'] = 0\n",
    "driver.loc[~driver['vehicle_added_date'].isnull(), 'vehicle_add'] = 1"
   ]
  },
  {
   "cell_type": "markdown",
   "metadata": {
    "collapsed": true
   },
   "source": [
    "###### We want to caculate the delta between the signup_date to bgc_date and vehicle_added_date "
   ]
  },
  {
   "cell_type": "code",
   "execution_count": 717,
   "metadata": {
    "collapsed": true
   },
   "outputs": [],
   "source": [
    "driver['signup_to_bgc'] = driver['bgc_date'] - driver['signup_date']\n",
    "driver['signup_to_veh'] = driver['vehicle_added_date'] - driver['signup_date'] "
   ]
  },
  {
   "cell_type": "code",
   "execution_count": 718,
   "metadata": {
    "collapsed": false
   },
   "outputs": [
    {
     "data": {
      "text/html": [
       "<div>\n",
       "<table border=\"1\" class=\"dataframe\">\n",
       "  <thead>\n",
       "    <tr style=\"text-align: right;\">\n",
       "      <th></th>\n",
       "      <th>id</th>\n",
       "      <th>signup_date</th>\n",
       "      <th>bgc_date</th>\n",
       "      <th>vehicle_added_date</th>\n",
       "      <th>vehicle_make</th>\n",
       "      <th>vehicle_model</th>\n",
       "      <th>vehicle_year</th>\n",
       "      <th>first_completed_date</th>\n",
       "      <th>target</th>\n",
       "      <th>Berton</th>\n",
       "      <th>...</th>\n",
       "      <th>mac</th>\n",
       "      <th>other</th>\n",
       "      <th>windows</th>\n",
       "      <th>Organic</th>\n",
       "      <th>Paid</th>\n",
       "      <th>Referral</th>\n",
       "      <th>bgc_flag</th>\n",
       "      <th>vehicle_add</th>\n",
       "      <th>signup_to_bgc</th>\n",
       "      <th>signup_to_veh</th>\n",
       "    </tr>\n",
       "  </thead>\n",
       "  <tbody>\n",
       "    <tr>\n",
       "      <th>0</th>\n",
       "      <td>1</td>\n",
       "      <td>2016-01-02</td>\n",
       "      <td>NaT</td>\n",
       "      <td>NaT</td>\n",
       "      <td>NaN</td>\n",
       "      <td>NaN</td>\n",
       "      <td>NaN</td>\n",
       "      <td>NaT</td>\n",
       "      <td>0</td>\n",
       "      <td>0.0</td>\n",
       "      <td>...</td>\n",
       "      <td>0.0</td>\n",
       "      <td>0.0</td>\n",
       "      <td>0.0</td>\n",
       "      <td>0.0</td>\n",
       "      <td>1.0</td>\n",
       "      <td>0.0</td>\n",
       "      <td>0</td>\n",
       "      <td>0</td>\n",
       "      <td>NaT</td>\n",
       "      <td>NaT</td>\n",
       "    </tr>\n",
       "    <tr>\n",
       "      <th>1</th>\n",
       "      <td>2</td>\n",
       "      <td>2016-01-21</td>\n",
       "      <td>NaT</td>\n",
       "      <td>NaT</td>\n",
       "      <td>NaN</td>\n",
       "      <td>NaN</td>\n",
       "      <td>NaN</td>\n",
       "      <td>NaT</td>\n",
       "      <td>0</td>\n",
       "      <td>0.0</td>\n",
       "      <td>...</td>\n",
       "      <td>0.0</td>\n",
       "      <td>0.0</td>\n",
       "      <td>1.0</td>\n",
       "      <td>0.0</td>\n",
       "      <td>1.0</td>\n",
       "      <td>0.0</td>\n",
       "      <td>0</td>\n",
       "      <td>0</td>\n",
       "      <td>NaT</td>\n",
       "      <td>NaT</td>\n",
       "    </tr>\n",
       "    <tr>\n",
       "      <th>2</th>\n",
       "      <td>3</td>\n",
       "      <td>2016-01-11</td>\n",
       "      <td>2016-01-11</td>\n",
       "      <td>NaT</td>\n",
       "      <td>NaN</td>\n",
       "      <td>NaN</td>\n",
       "      <td>NaN</td>\n",
       "      <td>NaT</td>\n",
       "      <td>0</td>\n",
       "      <td>0.0</td>\n",
       "      <td>...</td>\n",
       "      <td>0.0</td>\n",
       "      <td>0.0</td>\n",
       "      <td>1.0</td>\n",
       "      <td>1.0</td>\n",
       "      <td>0.0</td>\n",
       "      <td>0.0</td>\n",
       "      <td>1</td>\n",
       "      <td>0</td>\n",
       "      <td>0 days</td>\n",
       "      <td>NaT</td>\n",
       "    </tr>\n",
       "    <tr>\n",
       "      <th>3</th>\n",
       "      <td>4</td>\n",
       "      <td>2016-01-29</td>\n",
       "      <td>2016-02-03</td>\n",
       "      <td>2016-02-03</td>\n",
       "      <td>Toyota</td>\n",
       "      <td>Corolla</td>\n",
       "      <td>2016.0</td>\n",
       "      <td>2016-02-03</td>\n",
       "      <td>1</td>\n",
       "      <td>1.0</td>\n",
       "      <td>...</td>\n",
       "      <td>0.0</td>\n",
       "      <td>0.0</td>\n",
       "      <td>0.0</td>\n",
       "      <td>0.0</td>\n",
       "      <td>0.0</td>\n",
       "      <td>1.0</td>\n",
       "      <td>1</td>\n",
       "      <td>1</td>\n",
       "      <td>5 days</td>\n",
       "      <td>5 days</td>\n",
       "    </tr>\n",
       "    <tr>\n",
       "      <th>4</th>\n",
       "      <td>5</td>\n",
       "      <td>2016-01-10</td>\n",
       "      <td>2016-01-25</td>\n",
       "      <td>2016-01-26</td>\n",
       "      <td>Hyundai</td>\n",
       "      <td>Sonata</td>\n",
       "      <td>2016.0</td>\n",
       "      <td>NaT</td>\n",
       "      <td>0</td>\n",
       "      <td>0.0</td>\n",
       "      <td>...</td>\n",
       "      <td>0.0</td>\n",
       "      <td>0.0</td>\n",
       "      <td>0.0</td>\n",
       "      <td>0.0</td>\n",
       "      <td>0.0</td>\n",
       "      <td>1.0</td>\n",
       "      <td>1</td>\n",
       "      <td>1</td>\n",
       "      <td>15 days</td>\n",
       "      <td>16 days</td>\n",
       "    </tr>\n",
       "  </tbody>\n",
       "</table>\n",
       "<p>5 rows × 24 columns</p>\n",
       "</div>"
      ],
      "text/plain": [
       "   id signup_date   bgc_date vehicle_added_date vehicle_make vehicle_model  \\\n",
       "0   1  2016-01-02        NaT                NaT          NaN           NaN   \n",
       "1   2  2016-01-21        NaT                NaT          NaN           NaN   \n",
       "2   3  2016-01-11 2016-01-11                NaT          NaN           NaN   \n",
       "3   4  2016-01-29 2016-02-03         2016-02-03       Toyota       Corolla   \n",
       "4   5  2016-01-10 2016-01-25         2016-01-26      Hyundai        Sonata   \n",
       "\n",
       "   vehicle_year first_completed_date  target  Berton      ...        mac  \\\n",
       "0           NaN                  NaT       0     0.0      ...        0.0   \n",
       "1           NaN                  NaT       0     0.0      ...        0.0   \n",
       "2           NaN                  NaT       0     0.0      ...        0.0   \n",
       "3        2016.0           2016-02-03       1     1.0      ...        0.0   \n",
       "4        2016.0                  NaT       0     0.0      ...        0.0   \n",
       "\n",
       "   other  windows  Organic  Paid  Referral  bgc_flag  vehicle_add  \\\n",
       "0    0.0      0.0      0.0   1.0       0.0         0            0   \n",
       "1    0.0      1.0      0.0   1.0       0.0         0            0   \n",
       "2    0.0      1.0      1.0   0.0       0.0         1            0   \n",
       "3    0.0      0.0      0.0   0.0       1.0         1            1   \n",
       "4    0.0      0.0      0.0   0.0       1.0         1            1   \n",
       "\n",
       "   signup_to_bgc  signup_to_veh  \n",
       "0            NaT            NaT  \n",
       "1            NaT            NaT  \n",
       "2         0 days            NaT  \n",
       "3         5 days         5 days  \n",
       "4        15 days        16 days  \n",
       "\n",
       "[5 rows x 24 columns]"
      ]
     },
     "execution_count": 718,
     "metadata": {},
     "output_type": "execute_result"
    }
   ],
   "source": [
    "driver.head()"
   ]
  },
  {
   "cell_type": "code",
   "execution_count": null,
   "metadata": {
    "collapsed": true
   },
   "outputs": [],
   "source": []
  },
  {
   "cell_type": "markdown",
   "metadata": {},
   "source": [
    "We see a lot of missing values in these columns , lets replace these values with median of the columns."
   ]
  },
  {
   "cell_type": "code",
   "execution_count": 719,
   "metadata": {
    "collapsed": false
   },
   "outputs": [],
   "source": [
    "driver[\"signup_to_bgc\"] = driver[\"signup_to_bgc\"].fillna(driver[\"signup_to_bgc\"].median())\n",
    "driver['signup_to_veh'] = driver[\"signup_to_veh\"].fillna(driver[\"signup_to_veh\"].median())"
   ]
  },
  {
   "cell_type": "markdown",
   "metadata": {},
   "source": [
    "# Check if vehicle year predicts target\n",
    "\n"
   ]
  },
  {
   "cell_type": "code",
   "execution_count": 720,
   "metadata": {
    "collapsed": false
   },
   "outputs": [
    {
     "data": {
      "text/plain": [
       "0.022391126767244918"
      ]
     },
     "execution_count": 720,
     "metadata": {},
     "output_type": "execute_result"
    }
   ],
   "source": [
    "year_df = driver[~driver['vehicle_year'].isnull()]\n",
    "year_df['vehicle_year'].corr(year_df['target'])"
   ]
  },
  {
   "cell_type": "markdown",
   "metadata": {},
   "source": [
    "### Not really predictive older cars equally likely to be used as newer cars"
   ]
  },
  {
   "cell_type": "code",
   "execution_count": 721,
   "metadata": {
    "collapsed": false
   },
   "outputs": [],
   "source": [
    "#lets convert the signup_to_bgc and bgc_to_veh to integer\n",
    "driver['signup_to_bgc'] = (driver['signup_to_bgc'] / np.timedelta64(1, 'D')).astype(int)\n",
    "driver['signup_to_veh'] = (driver['signup_to_veh'] / np.timedelta64(1, 'D')).astype(int)"
   ]
  },
  {
   "cell_type": "code",
   "execution_count": 722,
   "metadata": {
    "collapsed": false
   },
   "outputs": [
    {
     "data": {
      "text/html": [
       "<div>\n",
       "<table border=\"1\" class=\"dataframe\">\n",
       "  <thead>\n",
       "    <tr style=\"text-align: right;\">\n",
       "      <th></th>\n",
       "      <th>id</th>\n",
       "      <th>signup_date</th>\n",
       "      <th>bgc_date</th>\n",
       "      <th>vehicle_added_date</th>\n",
       "      <th>vehicle_make</th>\n",
       "      <th>vehicle_model</th>\n",
       "      <th>vehicle_year</th>\n",
       "      <th>first_completed_date</th>\n",
       "      <th>target</th>\n",
       "      <th>Berton</th>\n",
       "      <th>...</th>\n",
       "      <th>mac</th>\n",
       "      <th>other</th>\n",
       "      <th>windows</th>\n",
       "      <th>Organic</th>\n",
       "      <th>Paid</th>\n",
       "      <th>Referral</th>\n",
       "      <th>bgc_flag</th>\n",
       "      <th>vehicle_add</th>\n",
       "      <th>signup_to_bgc</th>\n",
       "      <th>signup_to_veh</th>\n",
       "    </tr>\n",
       "  </thead>\n",
       "  <tbody>\n",
       "    <tr>\n",
       "      <th>0</th>\n",
       "      <td>1</td>\n",
       "      <td>2016-01-02</td>\n",
       "      <td>NaT</td>\n",
       "      <td>NaT</td>\n",
       "      <td>NaN</td>\n",
       "      <td>NaN</td>\n",
       "      <td>NaN</td>\n",
       "      <td>NaT</td>\n",
       "      <td>0</td>\n",
       "      <td>0.0</td>\n",
       "      <td>...</td>\n",
       "      <td>0.0</td>\n",
       "      <td>0.0</td>\n",
       "      <td>0.0</td>\n",
       "      <td>0.0</td>\n",
       "      <td>1.0</td>\n",
       "      <td>0.0</td>\n",
       "      <td>0</td>\n",
       "      <td>0</td>\n",
       "      <td>6</td>\n",
       "      <td>11</td>\n",
       "    </tr>\n",
       "    <tr>\n",
       "      <th>1</th>\n",
       "      <td>2</td>\n",
       "      <td>2016-01-21</td>\n",
       "      <td>NaT</td>\n",
       "      <td>NaT</td>\n",
       "      <td>NaN</td>\n",
       "      <td>NaN</td>\n",
       "      <td>NaN</td>\n",
       "      <td>NaT</td>\n",
       "      <td>0</td>\n",
       "      <td>0.0</td>\n",
       "      <td>...</td>\n",
       "      <td>0.0</td>\n",
       "      <td>0.0</td>\n",
       "      <td>1.0</td>\n",
       "      <td>0.0</td>\n",
       "      <td>1.0</td>\n",
       "      <td>0.0</td>\n",
       "      <td>0</td>\n",
       "      <td>0</td>\n",
       "      <td>6</td>\n",
       "      <td>11</td>\n",
       "    </tr>\n",
       "    <tr>\n",
       "      <th>2</th>\n",
       "      <td>3</td>\n",
       "      <td>2016-01-11</td>\n",
       "      <td>2016-01-11</td>\n",
       "      <td>NaT</td>\n",
       "      <td>NaN</td>\n",
       "      <td>NaN</td>\n",
       "      <td>NaN</td>\n",
       "      <td>NaT</td>\n",
       "      <td>0</td>\n",
       "      <td>0.0</td>\n",
       "      <td>...</td>\n",
       "      <td>0.0</td>\n",
       "      <td>0.0</td>\n",
       "      <td>1.0</td>\n",
       "      <td>1.0</td>\n",
       "      <td>0.0</td>\n",
       "      <td>0.0</td>\n",
       "      <td>1</td>\n",
       "      <td>0</td>\n",
       "      <td>0</td>\n",
       "      <td>11</td>\n",
       "    </tr>\n",
       "    <tr>\n",
       "      <th>3</th>\n",
       "      <td>4</td>\n",
       "      <td>2016-01-29</td>\n",
       "      <td>2016-02-03</td>\n",
       "      <td>2016-02-03</td>\n",
       "      <td>Toyota</td>\n",
       "      <td>Corolla</td>\n",
       "      <td>2016.0</td>\n",
       "      <td>2016-02-03</td>\n",
       "      <td>1</td>\n",
       "      <td>1.0</td>\n",
       "      <td>...</td>\n",
       "      <td>0.0</td>\n",
       "      <td>0.0</td>\n",
       "      <td>0.0</td>\n",
       "      <td>0.0</td>\n",
       "      <td>0.0</td>\n",
       "      <td>1.0</td>\n",
       "      <td>1</td>\n",
       "      <td>1</td>\n",
       "      <td>5</td>\n",
       "      <td>5</td>\n",
       "    </tr>\n",
       "    <tr>\n",
       "      <th>4</th>\n",
       "      <td>5</td>\n",
       "      <td>2016-01-10</td>\n",
       "      <td>2016-01-25</td>\n",
       "      <td>2016-01-26</td>\n",
       "      <td>Hyundai</td>\n",
       "      <td>Sonata</td>\n",
       "      <td>2016.0</td>\n",
       "      <td>NaT</td>\n",
       "      <td>0</td>\n",
       "      <td>0.0</td>\n",
       "      <td>...</td>\n",
       "      <td>0.0</td>\n",
       "      <td>0.0</td>\n",
       "      <td>0.0</td>\n",
       "      <td>0.0</td>\n",
       "      <td>0.0</td>\n",
       "      <td>1.0</td>\n",
       "      <td>1</td>\n",
       "      <td>1</td>\n",
       "      <td>15</td>\n",
       "      <td>16</td>\n",
       "    </tr>\n",
       "  </tbody>\n",
       "</table>\n",
       "<p>5 rows × 24 columns</p>\n",
       "</div>"
      ],
      "text/plain": [
       "   id signup_date   bgc_date vehicle_added_date vehicle_make vehicle_model  \\\n",
       "0   1  2016-01-02        NaT                NaT          NaN           NaN   \n",
       "1   2  2016-01-21        NaT                NaT          NaN           NaN   \n",
       "2   3  2016-01-11 2016-01-11                NaT          NaN           NaN   \n",
       "3   4  2016-01-29 2016-02-03         2016-02-03       Toyota       Corolla   \n",
       "4   5  2016-01-10 2016-01-25         2016-01-26      Hyundai        Sonata   \n",
       "\n",
       "   vehicle_year first_completed_date  target  Berton      ...        mac  \\\n",
       "0           NaN                  NaT       0     0.0      ...        0.0   \n",
       "1           NaN                  NaT       0     0.0      ...        0.0   \n",
       "2           NaN                  NaT       0     0.0      ...        0.0   \n",
       "3        2016.0           2016-02-03       1     1.0      ...        0.0   \n",
       "4        2016.0                  NaT       0     0.0      ...        0.0   \n",
       "\n",
       "   other  windows  Organic  Paid  Referral  bgc_flag  vehicle_add  \\\n",
       "0    0.0      0.0      0.0   1.0       0.0         0            0   \n",
       "1    0.0      1.0      0.0   1.0       0.0         0            0   \n",
       "2    0.0      1.0      1.0   0.0       0.0         1            0   \n",
       "3    0.0      0.0      0.0   0.0       1.0         1            1   \n",
       "4    0.0      0.0      0.0   0.0       1.0         1            1   \n",
       "\n",
       "   signup_to_bgc  signup_to_veh  \n",
       "0              6             11  \n",
       "1              6             11  \n",
       "2              0             11  \n",
       "3              5              5  \n",
       "4             15             16  \n",
       "\n",
       "[5 rows x 24 columns]"
      ]
     },
     "execution_count": 722,
     "metadata": {},
     "output_type": "execute_result"
    }
   ],
   "source": [
    "driver.head()"
   ]
  },
  {
   "cell_type": "code",
   "execution_count": 723,
   "metadata": {
    "collapsed": true
   },
   "outputs": [],
   "source": [
    "uber = driver"
   ]
  },
  {
   "cell_type": "markdown",
   "metadata": {},
   "source": [
    "# Lets delete vehicle_added_date , bgc_date , signup_date, vehicle_year,vehicle_make  from the dataframe"
   ]
  },
  {
   "cell_type": "code",
   "execution_count": 453,
   "metadata": {
    "collapsed": true
   },
   "outputs": [],
   "source": [
    "driver.drop(['vehicle_added_date', 'bgc_date','signup_date','vehicle_year','vehicle_make'], axis=1,inplace=True)"
   ]
  },
  {
   "cell_type": "markdown",
   "metadata": {},
   "source": [
    "Vehicle Model column have lot of null values and don't seem useful for prediction of conversion of signed up drivers to first trip so lets drop them\n"
   ]
  },
  {
   "cell_type": "code",
   "execution_count": 455,
   "metadata": {
    "collapsed": false
   },
   "outputs": [],
   "source": [
    "driver.drop(['vehicle_model'], axis=1,inplace=True)"
   ]
  },
  {
   "cell_type": "code",
   "execution_count": 466,
   "metadata": {
    "collapsed": false
   },
   "outputs": [],
   "source": [
    "# lets drop id column and first_completed_Dae as well\n",
    "driver.drop(['id','first_completed_date'], axis=1,inplace=True)"
   ]
  },
  {
   "cell_type": "code",
   "execution_count": 467,
   "metadata": {
    "collapsed": false
   },
   "outputs": [
    {
     "data": {
      "text/html": [
       "<div>\n",
       "<table border=\"1\" class=\"dataframe\">\n",
       "  <thead>\n",
       "    <tr style=\"text-align: right;\">\n",
       "      <th></th>\n",
       "      <th>target</th>\n",
       "      <th>android web</th>\n",
       "      <th>ios web</th>\n",
       "      <th>mac</th>\n",
       "      <th>other</th>\n",
       "      <th>windows</th>\n",
       "      <th>Organic</th>\n",
       "      <th>Paid</th>\n",
       "      <th>Referral</th>\n",
       "      <th>Berton</th>\n",
       "      <th>Strark</th>\n",
       "      <th>Wrouver</th>\n",
       "      <th>bgc_flag</th>\n",
       "      <th>vehicle_add</th>\n",
       "      <th>signup_to_bgc</th>\n",
       "      <th>signup_to_veh</th>\n",
       "    </tr>\n",
       "  </thead>\n",
       "  <tbody>\n",
       "    <tr>\n",
       "      <th>0</th>\n",
       "      <td>0</td>\n",
       "      <td>0.0</td>\n",
       "      <td>1.0</td>\n",
       "      <td>0.0</td>\n",
       "      <td>0.0</td>\n",
       "      <td>0.0</td>\n",
       "      <td>0.0</td>\n",
       "      <td>1.0</td>\n",
       "      <td>0.0</td>\n",
       "      <td>0.0</td>\n",
       "      <td>1.0</td>\n",
       "      <td>0.0</td>\n",
       "      <td>0</td>\n",
       "      <td>0</td>\n",
       "      <td>6</td>\n",
       "      <td>11</td>\n",
       "    </tr>\n",
       "    <tr>\n",
       "      <th>1</th>\n",
       "      <td>0</td>\n",
       "      <td>0.0</td>\n",
       "      <td>0.0</td>\n",
       "      <td>0.0</td>\n",
       "      <td>0.0</td>\n",
       "      <td>1.0</td>\n",
       "      <td>0.0</td>\n",
       "      <td>1.0</td>\n",
       "      <td>0.0</td>\n",
       "      <td>0.0</td>\n",
       "      <td>1.0</td>\n",
       "      <td>0.0</td>\n",
       "      <td>0</td>\n",
       "      <td>0</td>\n",
       "      <td>6</td>\n",
       "      <td>11</td>\n",
       "    </tr>\n",
       "    <tr>\n",
       "      <th>2</th>\n",
       "      <td>0</td>\n",
       "      <td>0.0</td>\n",
       "      <td>0.0</td>\n",
       "      <td>0.0</td>\n",
       "      <td>0.0</td>\n",
       "      <td>1.0</td>\n",
       "      <td>1.0</td>\n",
       "      <td>0.0</td>\n",
       "      <td>0.0</td>\n",
       "      <td>0.0</td>\n",
       "      <td>0.0</td>\n",
       "      <td>1.0</td>\n",
       "      <td>1</td>\n",
       "      <td>0</td>\n",
       "      <td>0</td>\n",
       "      <td>11</td>\n",
       "    </tr>\n",
       "    <tr>\n",
       "      <th>3</th>\n",
       "      <td>1</td>\n",
       "      <td>1.0</td>\n",
       "      <td>0.0</td>\n",
       "      <td>0.0</td>\n",
       "      <td>0.0</td>\n",
       "      <td>0.0</td>\n",
       "      <td>0.0</td>\n",
       "      <td>0.0</td>\n",
       "      <td>1.0</td>\n",
       "      <td>1.0</td>\n",
       "      <td>0.0</td>\n",
       "      <td>0.0</td>\n",
       "      <td>1</td>\n",
       "      <td>1</td>\n",
       "      <td>5</td>\n",
       "      <td>5</td>\n",
       "    </tr>\n",
       "    <tr>\n",
       "      <th>4</th>\n",
       "      <td>0</td>\n",
       "      <td>1.0</td>\n",
       "      <td>0.0</td>\n",
       "      <td>0.0</td>\n",
       "      <td>0.0</td>\n",
       "      <td>0.0</td>\n",
       "      <td>0.0</td>\n",
       "      <td>0.0</td>\n",
       "      <td>1.0</td>\n",
       "      <td>0.0</td>\n",
       "      <td>1.0</td>\n",
       "      <td>0.0</td>\n",
       "      <td>1</td>\n",
       "      <td>1</td>\n",
       "      <td>15</td>\n",
       "      <td>16</td>\n",
       "    </tr>\n",
       "  </tbody>\n",
       "</table>\n",
       "</div>"
      ],
      "text/plain": [
       "   target  android web  ios web  mac  other  windows  Organic  Paid  Referral  \\\n",
       "0       0          0.0      1.0  0.0    0.0      0.0      0.0   1.0       0.0   \n",
       "1       0          0.0      0.0  0.0    0.0      1.0      0.0   1.0       0.0   \n",
       "2       0          0.0      0.0  0.0    0.0      1.0      1.0   0.0       0.0   \n",
       "3       1          1.0      0.0  0.0    0.0      0.0      0.0   0.0       1.0   \n",
       "4       0          1.0      0.0  0.0    0.0      0.0      0.0   0.0       1.0   \n",
       "\n",
       "   Berton  Strark  Wrouver  bgc_flag  vehicle_add  signup_to_bgc  \\\n",
       "0     0.0     1.0      0.0         0            0              6   \n",
       "1     0.0     1.0      0.0         0            0              6   \n",
       "2     0.0     0.0      1.0         1            0              0   \n",
       "3     1.0     0.0      0.0         1            1              5   \n",
       "4     0.0     1.0      0.0         1            1             15   \n",
       "\n",
       "   signup_to_veh  \n",
       "0             11  \n",
       "1             11  \n",
       "2             11  \n",
       "3              5  \n",
       "4             16  "
      ]
     },
     "execution_count": 467,
     "metadata": {},
     "output_type": "execute_result"
    }
   ],
   "source": [
    "driver.head()"
   ]
  },
  {
   "cell_type": "code",
   "execution_count": 458,
   "metadata": {
    "collapsed": false
   },
   "outputs": [
    {
     "name": "stdout",
     "output_type": "stream",
     "text": [
      "<class 'pandas.core.frame.DataFrame'>\n",
      "RangeIndex: 54681 entries, 0 to 54680\n",
      "Data columns (total 18 columns):\n",
      "id                      54681 non-null int64\n",
      "first_completed_date    6137 non-null datetime64[ns]\n",
      "target                  54681 non-null int64\n",
      "android web             54681 non-null float64\n",
      "ios web                 54681 non-null float64\n",
      "mac                     54681 non-null float64\n",
      "other                   54681 non-null float64\n",
      "windows                 54681 non-null float64\n",
      "Organic                 54681 non-null float64\n",
      "Paid                    54681 non-null float64\n",
      "Referral                54681 non-null float64\n",
      "Berton                  54681 non-null float64\n",
      "Strark                  54681 non-null float64\n",
      "Wrouver                 54681 non-null float64\n",
      "bgc_flag                54681 non-null int64\n",
      "vehicle_add             54681 non-null int64\n",
      "signup_to_bgc           54681 non-null int64\n",
      "signup_to_veh           54681 non-null int64\n",
      "dtypes: datetime64[ns](1), float64(11), int64(6)\n",
      "memory usage: 7.5 MB\n"
     ]
    }
   ],
   "source": [
    "driver.info()"
   ]
  },
  {
   "cell_type": "code",
   "execution_count": 463,
   "metadata": {
    "collapsed": false
   },
   "outputs": [
    {
     "data": {
      "text/html": [
       "<div>\n",
       "<table border=\"1\" class=\"dataframe\">\n",
       "  <thead>\n",
       "    <tr style=\"text-align: right;\">\n",
       "      <th></th>\n",
       "      <th>id</th>\n",
       "      <th>target</th>\n",
       "      <th>android web</th>\n",
       "      <th>ios web</th>\n",
       "      <th>mac</th>\n",
       "      <th>other</th>\n",
       "      <th>windows</th>\n",
       "      <th>Organic</th>\n",
       "      <th>Paid</th>\n",
       "      <th>Referral</th>\n",
       "      <th>Berton</th>\n",
       "      <th>Strark</th>\n",
       "      <th>Wrouver</th>\n",
       "      <th>bgc_flag</th>\n",
       "      <th>vehicle_add</th>\n",
       "      <th>signup_to_bgc</th>\n",
       "      <th>signup_to_veh</th>\n",
       "    </tr>\n",
       "  </thead>\n",
       "  <tbody>\n",
       "    <tr>\n",
       "      <th>count</th>\n",
       "      <td>54681.000000</td>\n",
       "      <td>54681.000000</td>\n",
       "      <td>54681.000000</td>\n",
       "      <td>54681.000000</td>\n",
       "      <td>54681.000000</td>\n",
       "      <td>54681.000000</td>\n",
       "      <td>54681.000000</td>\n",
       "      <td>54681.000000</td>\n",
       "      <td>54681.000000</td>\n",
       "      <td>54681.000000</td>\n",
       "      <td>54681.000000</td>\n",
       "      <td>54681.000000</td>\n",
       "      <td>54681.000000</td>\n",
       "      <td>54681.000000</td>\n",
       "      <td>54681.000000</td>\n",
       "      <td>54681.000000</td>\n",
       "      <td>54681.000000</td>\n",
       "    </tr>\n",
       "    <tr>\n",
       "      <th>mean</th>\n",
       "      <td>27341.000000</td>\n",
       "      <td>0.112233</td>\n",
       "      <td>0.273294</td>\n",
       "      <td>0.304164</td>\n",
       "      <td>0.106509</td>\n",
       "      <td>0.066714</td>\n",
       "      <td>0.123919</td>\n",
       "      <td>0.245551</td>\n",
       "      <td>0.437775</td>\n",
       "      <td>0.316673</td>\n",
       "      <td>0.367897</td>\n",
       "      <td>0.540535</td>\n",
       "      <td>0.091567</td>\n",
       "      <td>0.601598</td>\n",
       "      <td>0.240193</td>\n",
       "      <td>8.434392</td>\n",
       "      <td>12.009583</td>\n",
       "    </tr>\n",
       "    <tr>\n",
       "      <th>std</th>\n",
       "      <td>15785.189372</td>\n",
       "      <td>0.315656</td>\n",
       "      <td>0.445655</td>\n",
       "      <td>0.460057</td>\n",
       "      <td>0.308490</td>\n",
       "      <td>0.249529</td>\n",
       "      <td>0.329492</td>\n",
       "      <td>0.430418</td>\n",
       "      <td>0.496118</td>\n",
       "      <td>0.465183</td>\n",
       "      <td>0.482238</td>\n",
       "      <td>0.498359</td>\n",
       "      <td>0.288417</td>\n",
       "      <td>0.489573</td>\n",
       "      <td>0.427205</td>\n",
       "      <td>8.396318</td>\n",
       "      <td>7.122901</td>\n",
       "    </tr>\n",
       "    <tr>\n",
       "      <th>min</th>\n",
       "      <td>1.000000</td>\n",
       "      <td>0.000000</td>\n",
       "      <td>0.000000</td>\n",
       "      <td>0.000000</td>\n",
       "      <td>0.000000</td>\n",
       "      <td>0.000000</td>\n",
       "      <td>0.000000</td>\n",
       "      <td>0.000000</td>\n",
       "      <td>0.000000</td>\n",
       "      <td>0.000000</td>\n",
       "      <td>0.000000</td>\n",
       "      <td>0.000000</td>\n",
       "      <td>0.000000</td>\n",
       "      <td>0.000000</td>\n",
       "      <td>0.000000</td>\n",
       "      <td>0.000000</td>\n",
       "      <td>-5.000000</td>\n",
       "    </tr>\n",
       "    <tr>\n",
       "      <th>25%</th>\n",
       "      <td>13671.000000</td>\n",
       "      <td>0.000000</td>\n",
       "      <td>0.000000</td>\n",
       "      <td>0.000000</td>\n",
       "      <td>0.000000</td>\n",
       "      <td>0.000000</td>\n",
       "      <td>0.000000</td>\n",
       "      <td>0.000000</td>\n",
       "      <td>0.000000</td>\n",
       "      <td>0.000000</td>\n",
       "      <td>0.000000</td>\n",
       "      <td>0.000000</td>\n",
       "      <td>0.000000</td>\n",
       "      <td>0.000000</td>\n",
       "      <td>0.000000</td>\n",
       "      <td>5.000000</td>\n",
       "      <td>11.000000</td>\n",
       "    </tr>\n",
       "    <tr>\n",
       "      <th>50%</th>\n",
       "      <td>27341.000000</td>\n",
       "      <td>0.000000</td>\n",
       "      <td>0.000000</td>\n",
       "      <td>0.000000</td>\n",
       "      <td>0.000000</td>\n",
       "      <td>0.000000</td>\n",
       "      <td>0.000000</td>\n",
       "      <td>0.000000</td>\n",
       "      <td>0.000000</td>\n",
       "      <td>0.000000</td>\n",
       "      <td>0.000000</td>\n",
       "      <td>1.000000</td>\n",
       "      <td>0.000000</td>\n",
       "      <td>1.000000</td>\n",
       "      <td>0.000000</td>\n",
       "      <td>6.000000</td>\n",
       "      <td>11.000000</td>\n",
       "    </tr>\n",
       "    <tr>\n",
       "      <th>75%</th>\n",
       "      <td>41011.000000</td>\n",
       "      <td>0.000000</td>\n",
       "      <td>1.000000</td>\n",
       "      <td>1.000000</td>\n",
       "      <td>0.000000</td>\n",
       "      <td>0.000000</td>\n",
       "      <td>0.000000</td>\n",
       "      <td>0.000000</td>\n",
       "      <td>1.000000</td>\n",
       "      <td>1.000000</td>\n",
       "      <td>1.000000</td>\n",
       "      <td>1.000000</td>\n",
       "      <td>0.000000</td>\n",
       "      <td>1.000000</td>\n",
       "      <td>0.000000</td>\n",
       "      <td>9.000000</td>\n",
       "      <td>11.000000</td>\n",
       "    </tr>\n",
       "    <tr>\n",
       "      <th>max</th>\n",
       "      <td>54681.000000</td>\n",
       "      <td>1.000000</td>\n",
       "      <td>1.000000</td>\n",
       "      <td>1.000000</td>\n",
       "      <td>1.000000</td>\n",
       "      <td>1.000000</td>\n",
       "      <td>1.000000</td>\n",
       "      <td>1.000000</td>\n",
       "      <td>1.000000</td>\n",
       "      <td>1.000000</td>\n",
       "      <td>1.000000</td>\n",
       "      <td>1.000000</td>\n",
       "      <td>1.000000</td>\n",
       "      <td>1.000000</td>\n",
       "      <td>1.000000</td>\n",
       "      <td>69.000000</td>\n",
       "      <td>72.000000</td>\n",
       "    </tr>\n",
       "  </tbody>\n",
       "</table>\n",
       "</div>"
      ],
      "text/plain": [
       "                 id        target   android web       ios web           mac  \\\n",
       "count  54681.000000  54681.000000  54681.000000  54681.000000  54681.000000   \n",
       "mean   27341.000000      0.112233      0.273294      0.304164      0.106509   \n",
       "std    15785.189372      0.315656      0.445655      0.460057      0.308490   \n",
       "min        1.000000      0.000000      0.000000      0.000000      0.000000   \n",
       "25%    13671.000000      0.000000      0.000000      0.000000      0.000000   \n",
       "50%    27341.000000      0.000000      0.000000      0.000000      0.000000   \n",
       "75%    41011.000000      0.000000      1.000000      1.000000      0.000000   \n",
       "max    54681.000000      1.000000      1.000000      1.000000      1.000000   \n",
       "\n",
       "              other       windows       Organic          Paid      Referral  \\\n",
       "count  54681.000000  54681.000000  54681.000000  54681.000000  54681.000000   \n",
       "mean       0.066714      0.123919      0.245551      0.437775      0.316673   \n",
       "std        0.249529      0.329492      0.430418      0.496118      0.465183   \n",
       "min        0.000000      0.000000      0.000000      0.000000      0.000000   \n",
       "25%        0.000000      0.000000      0.000000      0.000000      0.000000   \n",
       "50%        0.000000      0.000000      0.000000      0.000000      0.000000   \n",
       "75%        0.000000      0.000000      0.000000      1.000000      1.000000   \n",
       "max        1.000000      1.000000      1.000000      1.000000      1.000000   \n",
       "\n",
       "             Berton        Strark       Wrouver      bgc_flag   vehicle_add  \\\n",
       "count  54681.000000  54681.000000  54681.000000  54681.000000  54681.000000   \n",
       "mean       0.367897      0.540535      0.091567      0.601598      0.240193   \n",
       "std        0.482238      0.498359      0.288417      0.489573      0.427205   \n",
       "min        0.000000      0.000000      0.000000      0.000000      0.000000   \n",
       "25%        0.000000      0.000000      0.000000      0.000000      0.000000   \n",
       "50%        0.000000      1.000000      0.000000      1.000000      0.000000   \n",
       "75%        1.000000      1.000000      0.000000      1.000000      0.000000   \n",
       "max        1.000000      1.000000      1.000000      1.000000      1.000000   \n",
       "\n",
       "       signup_to_bgc  signup_to_veh  \n",
       "count   54681.000000   54681.000000  \n",
       "mean        8.434392      12.009583  \n",
       "std         8.396318       7.122901  \n",
       "min         0.000000      -5.000000  \n",
       "25%         5.000000      11.000000  \n",
       "50%         6.000000      11.000000  \n",
       "75%         9.000000      11.000000  \n",
       "max        69.000000      72.000000  "
      ]
     },
     "execution_count": 463,
     "metadata": {},
     "output_type": "execute_result"
    }
   ],
   "source": [
    "driver.describe()"
   ]
  },
  {
   "cell_type": "code",
   "execution_count": null,
   "metadata": {
    "collapsed": true
   },
   "outputs": [],
   "source": []
  },
  {
   "cell_type": "markdown",
   "metadata": {},
   "source": [
    "# Predictive Model to figure out the probability whether a drive signup will start driving or not"
   ]
  },
  {
   "cell_type": "code",
   "execution_count": 332,
   "metadata": {
    "collapsed": true
   },
   "outputs": [],
   "source": [
    "from sklearn.linear_model import LogisticRegression\n",
    "from sklearn.svm import SVC, LinearSVC\n",
    "from sklearn.ensemble import RandomForestClassifier\n",
    "\n",
    "from sklearn.naive_bayes import GaussianNB\n",
    "from sklearn.metrics import roc_auc_score"
   ]
  },
  {
   "cell_type": "code",
   "execution_count": 485,
   "metadata": {
    "collapsed": false
   },
   "outputs": [],
   "source": [
    "from sklearn.cross_validation import train_test_split \n",
    "from sklearn import metrics"
   ]
  },
  {
   "cell_type": "code",
   "execution_count": 623,
   "metadata": {
    "collapsed": true
   },
   "outputs": [],
   "source": [
    "X = driver.drop(\"target\",axis=1)\n",
    "Y = driver[\"target\"]"
   ]
  },
  {
   "cell_type": "code",
   "execution_count": null,
   "metadata": {
    "collapsed": true
   },
   "outputs": [],
   "source": []
  },
  {
   "cell_type": "code",
   "execution_count": 624,
   "metadata": {
    "collapsed": false
   },
   "outputs": [
    {
     "data": {
      "text/html": [
       "<div>\n",
       "<table border=\"1\" class=\"dataframe\">\n",
       "  <thead>\n",
       "    <tr style=\"text-align: right;\">\n",
       "      <th></th>\n",
       "      <th>android web</th>\n",
       "      <th>ios web</th>\n",
       "      <th>mac</th>\n",
       "      <th>other</th>\n",
       "      <th>windows</th>\n",
       "      <th>Organic</th>\n",
       "      <th>Paid</th>\n",
       "      <th>Referral</th>\n",
       "      <th>Berton</th>\n",
       "      <th>Strark</th>\n",
       "      <th>Wrouver</th>\n",
       "      <th>bgc_flag</th>\n",
       "      <th>vehicle_add</th>\n",
       "      <th>signup_to_bgc</th>\n",
       "      <th>signup_to_veh</th>\n",
       "    </tr>\n",
       "  </thead>\n",
       "  <tbody>\n",
       "    <tr>\n",
       "      <th>0</th>\n",
       "      <td>0.0</td>\n",
       "      <td>1.0</td>\n",
       "      <td>0.0</td>\n",
       "      <td>0.0</td>\n",
       "      <td>0.0</td>\n",
       "      <td>0.0</td>\n",
       "      <td>1.0</td>\n",
       "      <td>0.0</td>\n",
       "      <td>0.0</td>\n",
       "      <td>1.0</td>\n",
       "      <td>0.0</td>\n",
       "      <td>0</td>\n",
       "      <td>0</td>\n",
       "      <td>6</td>\n",
       "      <td>11</td>\n",
       "    </tr>\n",
       "    <tr>\n",
       "      <th>1</th>\n",
       "      <td>0.0</td>\n",
       "      <td>0.0</td>\n",
       "      <td>0.0</td>\n",
       "      <td>0.0</td>\n",
       "      <td>1.0</td>\n",
       "      <td>0.0</td>\n",
       "      <td>1.0</td>\n",
       "      <td>0.0</td>\n",
       "      <td>0.0</td>\n",
       "      <td>1.0</td>\n",
       "      <td>0.0</td>\n",
       "      <td>0</td>\n",
       "      <td>0</td>\n",
       "      <td>6</td>\n",
       "      <td>11</td>\n",
       "    </tr>\n",
       "    <tr>\n",
       "      <th>2</th>\n",
       "      <td>0.0</td>\n",
       "      <td>0.0</td>\n",
       "      <td>0.0</td>\n",
       "      <td>0.0</td>\n",
       "      <td>1.0</td>\n",
       "      <td>1.0</td>\n",
       "      <td>0.0</td>\n",
       "      <td>0.0</td>\n",
       "      <td>0.0</td>\n",
       "      <td>0.0</td>\n",
       "      <td>1.0</td>\n",
       "      <td>1</td>\n",
       "      <td>0</td>\n",
       "      <td>0</td>\n",
       "      <td>11</td>\n",
       "    </tr>\n",
       "    <tr>\n",
       "      <th>3</th>\n",
       "      <td>1.0</td>\n",
       "      <td>0.0</td>\n",
       "      <td>0.0</td>\n",
       "      <td>0.0</td>\n",
       "      <td>0.0</td>\n",
       "      <td>0.0</td>\n",
       "      <td>0.0</td>\n",
       "      <td>1.0</td>\n",
       "      <td>1.0</td>\n",
       "      <td>0.0</td>\n",
       "      <td>0.0</td>\n",
       "      <td>1</td>\n",
       "      <td>1</td>\n",
       "      <td>5</td>\n",
       "      <td>5</td>\n",
       "    </tr>\n",
       "    <tr>\n",
       "      <th>4</th>\n",
       "      <td>1.0</td>\n",
       "      <td>0.0</td>\n",
       "      <td>0.0</td>\n",
       "      <td>0.0</td>\n",
       "      <td>0.0</td>\n",
       "      <td>0.0</td>\n",
       "      <td>0.0</td>\n",
       "      <td>1.0</td>\n",
       "      <td>0.0</td>\n",
       "      <td>1.0</td>\n",
       "      <td>0.0</td>\n",
       "      <td>1</td>\n",
       "      <td>1</td>\n",
       "      <td>15</td>\n",
       "      <td>16</td>\n",
       "    </tr>\n",
       "  </tbody>\n",
       "</table>\n",
       "</div>"
      ],
      "text/plain": [
       "   android web  ios web  mac  other  windows  Organic  Paid  Referral  Berton  \\\n",
       "0          0.0      1.0  0.0    0.0      0.0      0.0   1.0       0.0     0.0   \n",
       "1          0.0      0.0  0.0    0.0      1.0      0.0   1.0       0.0     0.0   \n",
       "2          0.0      0.0  0.0    0.0      1.0      1.0   0.0       0.0     0.0   \n",
       "3          1.0      0.0  0.0    0.0      0.0      0.0   0.0       1.0     1.0   \n",
       "4          1.0      0.0  0.0    0.0      0.0      0.0   0.0       1.0     0.0   \n",
       "\n",
       "   Strark  Wrouver  bgc_flag  vehicle_add  signup_to_bgc  signup_to_veh  \n",
       "0     1.0      0.0         0            0              6             11  \n",
       "1     1.0      0.0         0            0              6             11  \n",
       "2     0.0      1.0         1            0              0             11  \n",
       "3     0.0      0.0         1            1              5              5  \n",
       "4     1.0      0.0         1            1             15             16  "
      ]
     },
     "execution_count": 624,
     "metadata": {},
     "output_type": "execute_result"
    }
   ],
   "source": [
    "X.head()"
   ]
  },
  {
   "cell_type": "code",
   "execution_count": 625,
   "metadata": {
    "collapsed": false
   },
   "outputs": [
    {
     "data": {
      "text/plain": [
       "0    0\n",
       "1    0\n",
       "2    0\n",
       "3    1\n",
       "4    0\n",
       "Name: target, dtype: int64"
      ]
     },
     "execution_count": 625,
     "metadata": {},
     "output_type": "execute_result"
    }
   ],
   "source": [
    "Y.head()"
   ]
  },
  {
   "cell_type": "code",
   "execution_count": null,
   "metadata": {
    "collapsed": true
   },
   "outputs": [],
   "source": []
  },
  {
   "cell_type": "code",
   "execution_count": 626,
   "metadata": {
    "collapsed": true
   },
   "outputs": [],
   "source": [
    "X_train, X_test, y_train, y_test = train_test_split(X, Y, test_size=0.3, random_state=0)\n"
   ]
  },
  {
   "cell_type": "markdown",
   "metadata": {},
   "source": [
    "## Since we are trying to predict whether a driver who sign up will actually start driving or not, it is a classification problem so lets use logistic regression since all the variables are in numeric form now."
   ]
  },
  {
   "cell_type": "code",
   "execution_count": 627,
   "metadata": {
    "collapsed": false
   },
   "outputs": [
    {
     "data": {
      "text/plain": [
       "0.94312362838332109"
      ]
     },
     "execution_count": 627,
     "metadata": {},
     "output_type": "execute_result"
    }
   ],
   "source": [
    "# Logistic Regression\n",
    "\n",
    "model_1 = LogisticRegression()\n",
    "\n",
    "model_1.fit(X_train, y_train)\n",
    "\n",
    "\n",
    "model_1.score(X_train, y_train)"
   ]
  },
  {
   "cell_type": "markdown",
   "metadata": {},
   "source": [
    "### Looks like our model is giving us a 94% of mean accuracy on our training dataset.Lets evauate the performance at the test dataset"
   ]
  },
  {
   "cell_type": "code",
   "execution_count": 628,
   "metadata": {
    "collapsed": false
   },
   "outputs": [
    {
     "name": "stdout",
     "output_type": "stream",
     "text": [
      "[0 0 0 ..., 0 0 0]\n"
     ]
    }
   ],
   "source": [
    "Y_pred = model_1.predict(X_test)\n",
    "print (Y_pred)\n"
   ]
  },
  {
   "cell_type": "code",
   "execution_count": 629,
   "metadata": {
    "collapsed": false
   },
   "outputs": [
    {
     "name": "stdout",
     "output_type": "stream",
     "text": [
      "[[  9.87582532e-01   1.24174677e-02]\n",
      " [  9.99758879e-01   2.41121109e-04]\n",
      " [  9.89941292e-01   1.00587076e-02]\n",
      " ..., \n",
      " [  9.99658715e-01   3.41285388e-04]\n",
      " [  9.93667758e-01   6.33224153e-03]\n",
      " [  9.91447994e-01   8.55200618e-03]]\n"
     ]
    }
   ],
   "source": [
    "probs_1 = model_1.predict_proba(X_test)\n",
    "print(probs_1)"
   ]
  },
  {
   "cell_type": "code",
   "execution_count": null,
   "metadata": {
    "collapsed": true
   },
   "outputs": [],
   "source": []
  },
  {
   "cell_type": "code",
   "execution_count": 630,
   "metadata": {
    "collapsed": false
   },
   "outputs": [
    {
     "data": {
      "text/html": [
       "<div>\n",
       "<table border=\"1\" class=\"dataframe\">\n",
       "  <thead>\n",
       "    <tr style=\"text-align: right;\">\n",
       "      <th></th>\n",
       "      <th>0</th>\n",
       "      <th>1</th>\n",
       "    </tr>\n",
       "  </thead>\n",
       "  <tbody>\n",
       "    <tr>\n",
       "      <th>0</th>\n",
       "      <td>android web</td>\n",
       "      <td>[0.496030626523]</td>\n",
       "    </tr>\n",
       "    <tr>\n",
       "      <th>1</th>\n",
       "      <td>ios web</td>\n",
       "      <td>[0.584401296941]</td>\n",
       "    </tr>\n",
       "    <tr>\n",
       "      <th>2</th>\n",
       "      <td>mac</td>\n",
       "      <td>[0.943375811681]</td>\n",
       "    </tr>\n",
       "    <tr>\n",
       "      <th>3</th>\n",
       "      <td>other</td>\n",
       "      <td>[0.7949053048]</td>\n",
       "    </tr>\n",
       "    <tr>\n",
       "      <th>4</th>\n",
       "      <td>windows</td>\n",
       "      <td>[0.869094430301]</td>\n",
       "    </tr>\n",
       "    <tr>\n",
       "      <th>5</th>\n",
       "      <td>Organic</td>\n",
       "      <td>[-1.4125758459]</td>\n",
       "    </tr>\n",
       "    <tr>\n",
       "      <th>6</th>\n",
       "      <td>Paid</td>\n",
       "      <td>[-1.63991280273]</td>\n",
       "    </tr>\n",
       "    <tr>\n",
       "      <th>7</th>\n",
       "      <td>Referral</td>\n",
       "      <td>[-0.968953168092]</td>\n",
       "    </tr>\n",
       "    <tr>\n",
       "      <th>8</th>\n",
       "      <td>Berton</td>\n",
       "      <td>[-1.24628144762]</td>\n",
       "    </tr>\n",
       "    <tr>\n",
       "      <th>9</th>\n",
       "      <td>Strark</td>\n",
       "      <td>[-1.35628803018]</td>\n",
       "    </tr>\n",
       "    <tr>\n",
       "      <th>10</th>\n",
       "      <td>Wrouver</td>\n",
       "      <td>[-1.41887233893]</td>\n",
       "    </tr>\n",
       "    <tr>\n",
       "      <th>11</th>\n",
       "      <td>bgc_flag</td>\n",
       "      <td>[3.59590762715]</td>\n",
       "    </tr>\n",
       "    <tr>\n",
       "      <th>12</th>\n",
       "      <td>vehicle_add</td>\n",
       "      <td>[4.04764107539]</td>\n",
       "    </tr>\n",
       "    <tr>\n",
       "      <th>13</th>\n",
       "      <td>signup_to_bgc</td>\n",
       "      <td>[-0.0308859419523]</td>\n",
       "    </tr>\n",
       "    <tr>\n",
       "      <th>14</th>\n",
       "      <td>signup_to_veh</td>\n",
       "      <td>[-0.141859826187]</td>\n",
       "    </tr>\n",
       "  </tbody>\n",
       "</table>\n",
       "</div>"
      ],
      "text/plain": [
       "                0                   1\n",
       "0     android web    [0.496030626523]\n",
       "1         ios web    [0.584401296941]\n",
       "2             mac    [0.943375811681]\n",
       "3           other      [0.7949053048]\n",
       "4         windows    [0.869094430301]\n",
       "5         Organic     [-1.4125758459]\n",
       "6            Paid    [-1.63991280273]\n",
       "7        Referral   [-0.968953168092]\n",
       "8          Berton    [-1.24628144762]\n",
       "9          Strark    [-1.35628803018]\n",
       "10        Wrouver    [-1.41887233893]\n",
       "11       bgc_flag     [3.59590762715]\n",
       "12    vehicle_add     [4.04764107539]\n",
       "13  signup_to_bgc  [-0.0308859419523]\n",
       "14  signup_to_veh   [-0.141859826187]"
      ]
     },
     "execution_count": 630,
     "metadata": {},
     "output_type": "execute_result"
    }
   ],
   "source": [
    "# examine the coefficients\n",
    "pd.DataFrame(list(zip(X.columns, np.transpose(model_1.coef_))))"
   ]
  },
  {
   "cell_type": "code",
   "execution_count": null,
   "metadata": {
    "collapsed": true
   },
   "outputs": [],
   "source": []
  },
  {
   "cell_type": "markdown",
   "metadata": {},
   "source": [
    "* So both bgc_flag and vehicle_add flag increase the chances of a driver actually making the first trip.\n",
    "* However other variables does not seem to impact the outcome that much"
   ]
  },
  {
   "cell_type": "markdown",
   "metadata": {},
   "source": [
    "#### As you can see, the classifier is predicting a 0 for target variable since probability in the second column is less thean 0.5.\n",
    "#### Now let's generate some evaluation metrics"
   ]
  },
  {
   "cell_type": "code",
   "execution_count": 631,
   "metadata": {
    "collapsed": false
   },
   "outputs": [
    {
     "name": "stdout",
     "output_type": "stream",
     "text": [
      "0.944346235904\n",
      "0.970119888995\n"
     ]
    }
   ],
   "source": [
    "\n",
    "print (metrics.accuracy_score(y_test, Y_pred))\n",
    "print (metrics.roc_auc_score(y_test, probs_1[:, 1]))"
   ]
  },
  {
   "cell_type": "code",
   "execution_count": null,
   "metadata": {
    "collapsed": true
   },
   "outputs": [],
   "source": []
  },
  {
   "cell_type": "markdown",
   "metadata": {},
   "source": [
    "* The accuracy is 94%, which is the same as we experienced when training and predicting on the same data.\n",
    "* We can also see the confusion matrix and a classification report with other metrics."
   ]
  },
  {
   "cell_type": "code",
   "execution_count": 632,
   "metadata": {
    "collapsed": false
   },
   "outputs": [
    {
     "name": "stdout",
     "output_type": "stream",
     "text": [
      "[[14060   486]\n",
      " [  427  1432]]\n",
      "             precision    recall  f1-score   support\n",
      "\n",
      "          0       0.97      0.97      0.97     14546\n",
      "          1       0.75      0.77      0.76      1859\n",
      "\n",
      "avg / total       0.95      0.94      0.94     16405\n",
      "\n"
     ]
    }
   ],
   "source": [
    "print (metrics.confusion_matrix(y_test, Y_pred))\n",
    "print (metrics.classification_report(y_test, Y_pred))"
   ]
  },
  {
   "cell_type": "code",
   "execution_count": null,
   "metadata": {
    "collapsed": true
   },
   "outputs": [],
   "source": []
  },
  {
   "cell_type": "code",
   "execution_count": 633,
   "metadata": {
    "collapsed": false
   },
   "outputs": [
    {
     "data": {
      "text/plain": [
       "[<matplotlib.lines.Line2D at 0x126d222e8>]"
      ]
     },
     "execution_count": 633,
     "metadata": {},
     "output_type": "execute_result"
    },
    {
     "data": {
      "image/png": "[encoded data removed]",
      "text/plain": [
       "<matplotlib.figure.Figure at 0x12aaf2ef0>"
      ]
     },
     "metadata": {},
     "output_type": "display_data"
    }
   ],
   "source": [
    "## we can look at the curver of the FPR values on the x-axis and the TPR values on the y-axis.\n",
    "\n",
    "fpr, tpr, thresholds = metrics.roc_curve(y_test, probs_1[:, 1])\n",
    "plt.plot(fpr, tpr)"
   ]
  },
  {
   "cell_type": "markdown",
   "metadata": {},
   "source": [
    "## Looks like our model is performing very well since auc score is also very close to 1. Precision is also 0.95 and recall of model is also 0.95. "
   ]
  },
  {
   "cell_type": "markdown",
   "metadata": {},
   "source": [
    "## If we observe the data closely and also the results it seems like bgc_flag and vehicle_add flag impacting the outcome largely . Even if we dont use any model we can say that both flag will decide the outcome of target variable and thus knowing the value of these flag will stop as from actually building any true predictive model. Thus we need to  remove these features from our model .\n"
   ]
  },
  {
   "cell_type": "code",
   "execution_count": 635,
   "metadata": {
    "collapsed": false
   },
   "outputs": [],
   "source": [
    "X.drop(['bgc_flag','vehicle_add'], axis=1,inplace=True)"
   ]
  },
  {
   "cell_type": "code",
   "execution_count": 642,
   "metadata": {
    "collapsed": false
   },
   "outputs": [
    {
     "data": {
      "text/html": [
       "<div>\n",
       "<table border=\"1\" class=\"dataframe\">\n",
       "  <thead>\n",
       "    <tr style=\"text-align: right;\">\n",
       "      <th></th>\n",
       "      <th>android web</th>\n",
       "      <th>ios web</th>\n",
       "      <th>mac</th>\n",
       "      <th>other</th>\n",
       "      <th>windows</th>\n",
       "      <th>Organic</th>\n",
       "      <th>Paid</th>\n",
       "      <th>Referral</th>\n",
       "      <th>Berton</th>\n",
       "      <th>Strark</th>\n",
       "      <th>Wrouver</th>\n",
       "      <th>signup_to_bgc</th>\n",
       "      <th>signup_to_veh</th>\n",
       "    </tr>\n",
       "  </thead>\n",
       "  <tbody>\n",
       "    <tr>\n",
       "      <th>0</th>\n",
       "      <td>0.0</td>\n",
       "      <td>1.0</td>\n",
       "      <td>0.0</td>\n",
       "      <td>0.0</td>\n",
       "      <td>0.0</td>\n",
       "      <td>0.0</td>\n",
       "      <td>1.0</td>\n",
       "      <td>0.0</td>\n",
       "      <td>0.0</td>\n",
       "      <td>1.0</td>\n",
       "      <td>0.0</td>\n",
       "      <td>6</td>\n",
       "      <td>11</td>\n",
       "    </tr>\n",
       "    <tr>\n",
       "      <th>1</th>\n",
       "      <td>0.0</td>\n",
       "      <td>0.0</td>\n",
       "      <td>0.0</td>\n",
       "      <td>0.0</td>\n",
       "      <td>1.0</td>\n",
       "      <td>0.0</td>\n",
       "      <td>1.0</td>\n",
       "      <td>0.0</td>\n",
       "      <td>0.0</td>\n",
       "      <td>1.0</td>\n",
       "      <td>0.0</td>\n",
       "      <td>6</td>\n",
       "      <td>11</td>\n",
       "    </tr>\n",
       "    <tr>\n",
       "      <th>2</th>\n",
       "      <td>0.0</td>\n",
       "      <td>0.0</td>\n",
       "      <td>0.0</td>\n",
       "      <td>0.0</td>\n",
       "      <td>1.0</td>\n",
       "      <td>1.0</td>\n",
       "      <td>0.0</td>\n",
       "      <td>0.0</td>\n",
       "      <td>0.0</td>\n",
       "      <td>0.0</td>\n",
       "      <td>1.0</td>\n",
       "      <td>0</td>\n",
       "      <td>11</td>\n",
       "    </tr>\n",
       "    <tr>\n",
       "      <th>3</th>\n",
       "      <td>1.0</td>\n",
       "      <td>0.0</td>\n",
       "      <td>0.0</td>\n",
       "      <td>0.0</td>\n",
       "      <td>0.0</td>\n",
       "      <td>0.0</td>\n",
       "      <td>0.0</td>\n",
       "      <td>1.0</td>\n",
       "      <td>1.0</td>\n",
       "      <td>0.0</td>\n",
       "      <td>0.0</td>\n",
       "      <td>5</td>\n",
       "      <td>5</td>\n",
       "    </tr>\n",
       "    <tr>\n",
       "      <th>4</th>\n",
       "      <td>1.0</td>\n",
       "      <td>0.0</td>\n",
       "      <td>0.0</td>\n",
       "      <td>0.0</td>\n",
       "      <td>0.0</td>\n",
       "      <td>0.0</td>\n",
       "      <td>0.0</td>\n",
       "      <td>1.0</td>\n",
       "      <td>0.0</td>\n",
       "      <td>1.0</td>\n",
       "      <td>0.0</td>\n",
       "      <td>15</td>\n",
       "      <td>16</td>\n",
       "    </tr>\n",
       "  </tbody>\n",
       "</table>\n",
       "</div>"
      ],
      "text/plain": [
       "   android web  ios web  mac  other  windows  Organic  Paid  Referral  Berton  \\\n",
       "0          0.0      1.0  0.0    0.0      0.0      0.0   1.0       0.0     0.0   \n",
       "1          0.0      0.0  0.0    0.0      1.0      0.0   1.0       0.0     0.0   \n",
       "2          0.0      0.0  0.0    0.0      1.0      1.0   0.0       0.0     0.0   \n",
       "3          1.0      0.0  0.0    0.0      0.0      0.0   0.0       1.0     1.0   \n",
       "4          1.0      0.0  0.0    0.0      0.0      0.0   0.0       1.0     0.0   \n",
       "\n",
       "   Strark  Wrouver  signup_to_bgc  signup_to_veh  \n",
       "0     1.0      0.0              6             11  \n",
       "1     1.0      0.0              6             11  \n",
       "2     0.0      1.0              0             11  \n",
       "3     0.0      0.0              5              5  \n",
       "4     1.0      0.0             15             16  "
      ]
     },
     "execution_count": 642,
     "metadata": {},
     "output_type": "execute_result"
    }
   ],
   "source": [
    "X.head()"
   ]
  },
  {
   "cell_type": "code",
   "execution_count": null,
   "metadata": {
    "collapsed": true
   },
   "outputs": [],
   "source": []
  },
  {
   "cell_type": "code",
   "execution_count": 643,
   "metadata": {
    "collapsed": true
   },
   "outputs": [],
   "source": [
    "X_train, X_test, y_train, y_test = train_test_split(X, Y, test_size=0.3, random_state=0)"
   ]
  },
  {
   "cell_type": "code",
   "execution_count": 644,
   "metadata": {
    "collapsed": false
   },
   "outputs": [
    {
     "data": {
      "text/plain": [
       "0.93081826732155926"
      ]
     },
     "execution_count": 644,
     "metadata": {},
     "output_type": "execute_result"
    }
   ],
   "source": [
    "# Logistic Regression\n",
    "\n",
    "model_2 = LogisticRegression()\n",
    "\n",
    "model_2.fit(X_train, y_train)\n",
    "\n",
    "\n",
    "model_2.score(X_train, y_train)"
   ]
  },
  {
   "cell_type": "code",
   "execution_count": null,
   "metadata": {
    "collapsed": true
   },
   "outputs": [],
   "source": []
  },
  {
   "cell_type": "markdown",
   "metadata": {},
   "source": [
    "### Now our model is giving us an accuracy of 93% on training dataset lets evaluate the performance on the test dataset."
   ]
  },
  {
   "cell_type": "code",
   "execution_count": 729,
   "metadata": {
    "collapsed": false
   },
   "outputs": [
    {
     "name": "stdout",
     "output_type": "stream",
     "text": [
      "[0 0 0 ..., 0 0 0]\n"
     ]
    }
   ],
   "source": [
    "Y_pred = model_2.predict(X_test)\n",
    "print (Y_pred)\n"
   ]
  },
  {
   "cell_type": "code",
   "execution_count": null,
   "metadata": {
    "collapsed": true
   },
   "outputs": [],
   "source": []
  },
  {
   "cell_type": "code",
   "execution_count": 646,
   "metadata": {
    "collapsed": false
   },
   "outputs": [
    {
     "name": "stdout",
     "output_type": "stream",
     "text": [
      "[[ 0.94592048  0.05407952]\n",
      " [ 0.97069807  0.02930193]\n",
      " [ 0.97916654  0.02083346]\n",
      " ..., \n",
      " [ 0.97317133  0.02682867]\n",
      " [ 0.99570779  0.00429221]\n",
      " [ 0.97340277  0.02659723]]\n"
     ]
    }
   ],
   "source": [
    "probs_2 = model_2.predict_proba(X_test)\n",
    "print(probs_2)"
   ]
  },
  {
   "cell_type": "code",
   "execution_count": 647,
   "metadata": {
    "collapsed": false
   },
   "outputs": [
    {
     "data": {
      "text/html": [
       "<div>\n",
       "<table border=\"1\" class=\"dataframe\">\n",
       "  <thead>\n",
       "    <tr style=\"text-align: right;\">\n",
       "      <th></th>\n",
       "      <th>0</th>\n",
       "      <th>1</th>\n",
       "    </tr>\n",
       "  </thead>\n",
       "  <tbody>\n",
       "    <tr>\n",
       "      <th>0</th>\n",
       "      <td>android web</td>\n",
       "      <td>[0.496030626523]</td>\n",
       "    </tr>\n",
       "    <tr>\n",
       "      <th>1</th>\n",
       "      <td>ios web</td>\n",
       "      <td>[0.584401296941]</td>\n",
       "    </tr>\n",
       "    <tr>\n",
       "      <th>2</th>\n",
       "      <td>mac</td>\n",
       "      <td>[0.943375811681]</td>\n",
       "    </tr>\n",
       "    <tr>\n",
       "      <th>3</th>\n",
       "      <td>other</td>\n",
       "      <td>[0.7949053048]</td>\n",
       "    </tr>\n",
       "    <tr>\n",
       "      <th>4</th>\n",
       "      <td>windows</td>\n",
       "      <td>[0.869094430301]</td>\n",
       "    </tr>\n",
       "    <tr>\n",
       "      <th>5</th>\n",
       "      <td>Organic</td>\n",
       "      <td>[-1.4125758459]</td>\n",
       "    </tr>\n",
       "    <tr>\n",
       "      <th>6</th>\n",
       "      <td>Paid</td>\n",
       "      <td>[-1.63991280273]</td>\n",
       "    </tr>\n",
       "    <tr>\n",
       "      <th>7</th>\n",
       "      <td>Referral</td>\n",
       "      <td>[-0.968953168092]</td>\n",
       "    </tr>\n",
       "    <tr>\n",
       "      <th>8</th>\n",
       "      <td>Berton</td>\n",
       "      <td>[-1.24628144762]</td>\n",
       "    </tr>\n",
       "    <tr>\n",
       "      <th>9</th>\n",
       "      <td>Strark</td>\n",
       "      <td>[-1.35628803018]</td>\n",
       "    </tr>\n",
       "    <tr>\n",
       "      <th>10</th>\n",
       "      <td>Wrouver</td>\n",
       "      <td>[-1.41887233893]</td>\n",
       "    </tr>\n",
       "    <tr>\n",
       "      <th>11</th>\n",
       "      <td>signup_to_bgc</td>\n",
       "      <td>[3.59590762715]</td>\n",
       "    </tr>\n",
       "    <tr>\n",
       "      <th>12</th>\n",
       "      <td>signup_to_veh</td>\n",
       "      <td>[4.04764107539]</td>\n",
       "    </tr>\n",
       "  </tbody>\n",
       "</table>\n",
       "</div>"
      ],
      "text/plain": [
       "                0                  1\n",
       "0     android web   [0.496030626523]\n",
       "1         ios web   [0.584401296941]\n",
       "2             mac   [0.943375811681]\n",
       "3           other     [0.7949053048]\n",
       "4         windows   [0.869094430301]\n",
       "5         Organic    [-1.4125758459]\n",
       "6            Paid   [-1.63991280273]\n",
       "7        Referral  [-0.968953168092]\n",
       "8          Berton   [-1.24628144762]\n",
       "9          Strark   [-1.35628803018]\n",
       "10        Wrouver   [-1.41887233893]\n",
       "11  signup_to_bgc    [3.59590762715]\n",
       "12  signup_to_veh    [4.04764107539]"
      ]
     },
     "execution_count": 647,
     "metadata": {},
     "output_type": "execute_result"
    }
   ],
   "source": [
    "# examine the coefficients\n",
    "pd.DataFrame(list(zip(X.columns, np.transpose(model_1.coef_))))"
   ]
  },
  {
   "cell_type": "markdown",
   "metadata": {},
   "source": []
  },
  {
   "cell_type": "code",
   "execution_count": 648,
   "metadata": {
    "collapsed": false
   },
   "outputs": [
    {
     "data": {
      "text/plain": [
       "([<matplotlib.axis.XTick at 0x126e1c940>,\n",
       "  <matplotlib.axis.XTick at 0x126cf6588>,\n",
       "  <matplotlib.axis.XTick at 0x126e0d9e8>,\n",
       "  <matplotlib.axis.XTick at 0x128c8deb8>,\n",
       "  <matplotlib.axis.XTick at 0x128c909e8>,\n",
       "  <matplotlib.axis.XTick at 0x128c95518>,\n",
       "  <matplotlib.axis.XTick at 0x128c99048>,\n",
       "  <matplotlib.axis.XTick at 0x128c99b38>,\n",
       "  <matplotlib.axis.XTick at 0x128c9e668>,\n",
       "  <matplotlib.axis.XTick at 0x128ca1198>,\n",
       "  <matplotlib.axis.XTick at 0x128ca1c88>,\n",
       "  <matplotlib.axis.XTick at 0x128ca47b8>,\n",
       "  <matplotlib.axis.XTick at 0x128ca82e8>],\n",
       " <a list of 13 Text xticklabel objects>)"
      ]
     },
     "execution_count": 648,
     "metadata": {},
     "output_type": "execute_result"
    },
    {
     "data": {
      "image/png": "[encoded data removed]",
      "text/plain": [
       "<matplotlib.figure.Figure at 0x12e1f4b70>"
      ]
     },
     "metadata": {},
     "output_type": "display_data"
    }
   ],
   "source": [
    "plt.plot(np.transpose(model_1.coef_), 'o')\n",
    "plt.xticks(range(X.shape[1]), X_train.columns,rotation=90)"
   ]
  },
  {
   "cell_type": "code",
   "execution_count": 731,
   "metadata": {
    "collapsed": false
   },
   "outputs": [
    {
     "name": "stdout",
     "output_type": "stream",
     "text": [
      "0.931240475465\n",
      "0.970119888995\n"
     ]
    }
   ],
   "source": [
    "\n",
    "print (metrics.accuracy_score(y_test, Y_pred))\n",
    "print (metrics.roc_auc_score(y_test, probs_1[:, 1]))"
   ]
  },
  {
   "cell_type": "code",
   "execution_count": null,
   "metadata": {
    "collapsed": true
   },
   "outputs": [],
   "source": []
  },
  {
   "cell_type": "markdown",
   "metadata": {},
   "source": [
    "* The accuracy is 93%, which is the same as we experienced when training and predicting on the same data.\n",
    "* ROC score is 0.85 which is a good indicator of predictive power of our model.\n",
    "* We can also see the confusion matrix and a classification report with other metrics."
   ]
  },
  {
   "cell_type": "code",
   "execution_count": 652,
   "metadata": {
    "collapsed": false
   },
   "outputs": [
    {
     "name": "stdout",
     "output_type": "stream",
     "text": [
      "[[14346   200]\n",
      " [  928   931]]\n",
      "             precision    recall  f1-score   support\n",
      "\n",
      "          0       0.94      0.99      0.96     14546\n",
      "          1       0.82      0.50      0.62      1859\n",
      "\n",
      "avg / total       0.93      0.93      0.92     16405\n",
      "\n"
     ]
    }
   ],
   "source": [
    "print (metrics.confusion_matrix(y_test, Y_pred))\n",
    "print (metrics.classification_report(y_test, Y_pred))"
   ]
  },
  {
   "cell_type": "markdown",
   "metadata": {},
   "source": [
    "* We can see that value of both precision and recall is also high so model has good predictive power.\n",
    "* We can look at the graph  of the FPR values on the x-axis and the TPR values on the y-axis.\n"
   ]
  },
  {
   "cell_type": "code",
   "execution_count": 579,
   "metadata": {
    "collapsed": false
   },
   "outputs": [
    {
     "data": {
      "text/plain": [
       "[<matplotlib.lines.Line2D at 0x1270378d0>]"
      ]
     },
     "execution_count": 579,
     "metadata": {},
     "output_type": "execute_result"
    },
    {
     "data": {
      "image/png": "[encoded data removed]",
      "text/plain": [
       "<matplotlib.figure.Figure at 0x127227da0>"
      ]
     },
     "metadata": {},
     "output_type": "display_data"
    }
   ],
   "source": [
    "\n",
    "fpr, tpr, thresholds = metrics.roc_curve(y_test, probs[:, 1])\n",
    "plt.plot(fpr, tpr)"
   ]
  },
  {
   "cell_type": "code",
   "execution_count": null,
   "metadata": {
    "collapsed": true
   },
   "outputs": [],
   "source": []
  },
  {
   "cell_type": "code",
   "execution_count": null,
   "metadata": {
    "collapsed": true
   },
   "outputs": [],
   "source": []
  },
  {
   "cell_type": "markdown",
   "metadata": {},
   "source": [
    "## Model Evaluation Using Cross-Validation\n",
    "\n",
    "We might be getting higher accuracy because of overfitting of data. Now let's try 5-fold cross-validation, to see if the accuracy holds up more rigorously."
   ]
  },
  {
   "cell_type": "code",
   "execution_count": 653,
   "metadata": {
    "collapsed": true
   },
   "outputs": [],
   "source": [
    "from sklearn.cross_validation import KFold\n",
    "from sklearn.cross_validation import cross_val_score"
   ]
  },
  {
   "cell_type": "code",
   "execution_count": null,
   "metadata": {
    "collapsed": true
   },
   "outputs": [],
   "source": []
  },
  {
   "cell_type": "code",
   "execution_count": 654,
   "metadata": {
    "collapsed": false
   },
   "outputs": [
    {
     "name": "stdout",
     "output_type": "stream",
     "text": [
      "[ 0.9316083   0.9326079   0.93443672  0.92968178  0.92730432]\n",
      "0.931127805261\n"
     ]
    }
   ],
   "source": [
    "# evaluate the model using 5-fold cross-validation\n",
    "\n",
    "\n",
    "kf = KFold(len(X), 5, shuffle=True, random_state=0)\n",
    "model_3 = LogisticRegression()\n",
    "\n",
    "accuracies = cross_val_score(model_2,X, Y, scoring=\"accuracy\", cv=kf)\n",
    "\n",
    "print (accuracies)\n",
    "print (accuracies.mean())"
   ]
  },
  {
   "cell_type": "code",
   "execution_count": null,
   "metadata": {
    "collapsed": true
   },
   "outputs": [],
   "source": []
  },
  {
   "cell_type": "markdown",
   "metadata": {},
   "source": [
    "## Our model is performing good even using the cross validation, and accuaracy is still 93 %"
   ]
  },
  {
   "cell_type": "code",
   "execution_count": null,
   "metadata": {
    "collapsed": true
   },
   "outputs": [],
   "source": []
  },
  {
   "cell_type": "markdown",
   "metadata": {},
   "source": [
    "## We might want to consider regularization, given that some of our features are correlated to each other .\n",
    " * We will first perform the l2 legularization and then we will perform the l1 regularization"
   ]
  },
  {
   "cell_type": "code",
   "execution_count": null,
   "metadata": {
    "collapsed": true
   },
   "outputs": [],
   "source": []
  },
  {
   "cell_type": "code",
   "execution_count": 662,
   "metadata": {
    "collapsed": false
   },
   "outputs": [
    {
     "data": {
      "text/plain": [
       "0.93081826732155926"
      ]
     },
     "execution_count": 662,
     "metadata": {},
     "output_type": "execute_result"
    }
   ],
   "source": [
    "#Logit regression will simply classify the data set using l2 regularization:\n",
    "\n",
    "model_4 = LogisticRegression(C=1, penalty='l2').fit(X_train, y_train)\n",
    "model_4.score(X_train, y_train)\n"
   ]
  },
  {
   "cell_type": "code",
   "execution_count": null,
   "metadata": {
    "collapsed": true
   },
   "outputs": [],
   "source": []
  },
  {
   "cell_type": "code",
   "execution_count": 663,
   "metadata": {
    "collapsed": false
   },
   "outputs": [
    {
     "name": "stdout",
     "output_type": "stream",
     "text": [
      "[0 0 0 ..., 0 0 0]\n"
     ]
    }
   ],
   "source": [
    "Y_pred = model_4.predict(X_test)\n",
    "print (Y_pred)"
   ]
  },
  {
   "cell_type": "code",
   "execution_count": null,
   "metadata": {
    "collapsed": true
   },
   "outputs": [],
   "source": []
  },
  {
   "cell_type": "code",
   "execution_count": 664,
   "metadata": {
    "collapsed": false
   },
   "outputs": [
    {
     "name": "stdout",
     "output_type": "stream",
     "text": [
      "[[ 0.94592048  0.05407952]\n",
      " [ 0.97069807  0.02930193]\n",
      " [ 0.97916654  0.02083346]\n",
      " ..., \n",
      " [ 0.97317133  0.02682867]\n",
      " [ 0.99570779  0.00429221]\n",
      " [ 0.97340277  0.02659723]]\n"
     ]
    }
   ],
   "source": [
    "probs_4 = model_4.predict_proba(X_test)\n",
    "print(probs_4)"
   ]
  },
  {
   "cell_type": "code",
   "execution_count": null,
   "metadata": {
    "collapsed": true
   },
   "outputs": [],
   "source": []
  },
  {
   "cell_type": "code",
   "execution_count": 665,
   "metadata": {
    "collapsed": false
   },
   "outputs": [
    {
     "data": {
      "text/html": [
       "<div>\n",
       "<table border=\"1\" class=\"dataframe\">\n",
       "  <thead>\n",
       "    <tr style=\"text-align: right;\">\n",
       "      <th></th>\n",
       "      <th>0</th>\n",
       "      <th>1</th>\n",
       "    </tr>\n",
       "  </thead>\n",
       "  <tbody>\n",
       "    <tr>\n",
       "      <th>0</th>\n",
       "      <td>android web</td>\n",
       "      <td>[1.72668939058]</td>\n",
       "    </tr>\n",
       "    <tr>\n",
       "      <th>1</th>\n",
       "      <td>ios web</td>\n",
       "      <td>[1.92177556413]</td>\n",
       "    </tr>\n",
       "    <tr>\n",
       "      <th>2</th>\n",
       "      <td>mac</td>\n",
       "      <td>[2.30570328551]</td>\n",
       "    </tr>\n",
       "    <tr>\n",
       "      <th>3</th>\n",
       "      <td>other</td>\n",
       "      <td>[2.12842838851]</td>\n",
       "    </tr>\n",
       "    <tr>\n",
       "      <th>4</th>\n",
       "      <td>windows</td>\n",
       "      <td>[2.17728591717]</td>\n",
       "    </tr>\n",
       "    <tr>\n",
       "      <th>5</th>\n",
       "      <td>Organic</td>\n",
       "      <td>[-0.234358443908]</td>\n",
       "    </tr>\n",
       "    <tr>\n",
       "      <th>6</th>\n",
       "      <td>Paid</td>\n",
       "      <td>[-0.784645958484]</td>\n",
       "    </tr>\n",
       "    <tr>\n",
       "      <th>7</th>\n",
       "      <td>Referral</td>\n",
       "      <td>[0.687821851572]</td>\n",
       "    </tr>\n",
       "    <tr>\n",
       "      <th>8</th>\n",
       "      <td>Berton</td>\n",
       "      <td>[-0.0487392698571]</td>\n",
       "    </tr>\n",
       "    <tr>\n",
       "      <th>9</th>\n",
       "      <td>Strark</td>\n",
       "      <td>[-0.0702094232653]</td>\n",
       "    </tr>\n",
       "    <tr>\n",
       "      <th>10</th>\n",
       "      <td>Wrouver</td>\n",
       "      <td>[-0.212233857699]</td>\n",
       "    </tr>\n",
       "    <tr>\n",
       "      <th>11</th>\n",
       "      <td>signup_to_bgc</td>\n",
       "      <td>[-0.0791940846954]</td>\n",
       "    </tr>\n",
       "    <tr>\n",
       "      <th>12</th>\n",
       "      <td>signup_to_veh</td>\n",
       "      <td>[-0.311256780193]</td>\n",
       "    </tr>\n",
       "  </tbody>\n",
       "</table>\n",
       "</div>"
      ],
      "text/plain": [
       "                0                   1\n",
       "0     android web     [1.72668939058]\n",
       "1         ios web     [1.92177556413]\n",
       "2             mac     [2.30570328551]\n",
       "3           other     [2.12842838851]\n",
       "4         windows     [2.17728591717]\n",
       "5         Organic   [-0.234358443908]\n",
       "6            Paid   [-0.784645958484]\n",
       "7        Referral    [0.687821851572]\n",
       "8          Berton  [-0.0487392698571]\n",
       "9          Strark  [-0.0702094232653]\n",
       "10        Wrouver   [-0.212233857699]\n",
       "11  signup_to_bgc  [-0.0791940846954]\n",
       "12  signup_to_veh   [-0.311256780193]"
      ]
     },
     "execution_count": 665,
     "metadata": {},
     "output_type": "execute_result"
    }
   ],
   "source": [
    "# examine the coefficients\n",
    "pd.DataFrame(list(zip(X.columns, np.transpose(model_4.coef_))))\n"
   ]
  },
  {
   "cell_type": "code",
   "execution_count": 666,
   "metadata": {
    "collapsed": false
   },
   "outputs": [
    {
     "name": "stdout",
     "output_type": "stream",
     "text": [
      "0.857833197379\n"
     ]
    }
   ],
   "source": [
    "print (metrics.roc_auc_score(y_test, probs_4[:, 1]))"
   ]
  },
  {
   "cell_type": "markdown",
   "metadata": {},
   "source": [
    "### Looks like  after  l2 regularization also predictive power remains the same. "
   ]
  },
  {
   "cell_type": "code",
   "execution_count": 667,
   "metadata": {
    "collapsed": false
   },
   "outputs": [
    {
     "data": {
      "text/plain": [
       "0.93084439335353741"
      ]
     },
     "execution_count": 667,
     "metadata": {},
     "output_type": "execute_result"
    }
   ],
   "source": [
    "#Logit regression will simply classify the data set using l2 regularization:\n",
    "\n",
    "model_5 = LogisticRegression(C=1, penalty='l1').fit(X_train, y_train)\n",
    "model_5.score(X_train, y_train)\n"
   ]
  },
  {
   "cell_type": "code",
   "execution_count": 668,
   "metadata": {
    "collapsed": false
   },
   "outputs": [
    {
     "name": "stdout",
     "output_type": "stream",
     "text": [
      "[0 0 0 ..., 0 0 0]\n",
      "[[ 0.94597716  0.05402284]\n",
      " [ 0.97062586  0.02937414]\n",
      " [ 0.98028233  0.01971767]\n",
      " ..., \n",
      " [ 0.97461927  0.02538073]\n",
      " [ 0.99567498  0.00432502]\n",
      " [ 0.97341855  0.02658145]]\n"
     ]
    }
   ],
   "source": [
    "Y_pred = model_5.predict(X_test)\n",
    "print (Y_pred)\n",
    "probs_5 = model_5.predict_proba(X_test)\n",
    "print(probs_5)"
   ]
  },
  {
   "cell_type": "code",
   "execution_count": 669,
   "metadata": {
    "collapsed": false
   },
   "outputs": [
    {
     "data": {
      "text/html": [
       "<div>\n",
       "<table border=\"1\" class=\"dataframe\">\n",
       "  <thead>\n",
       "    <tr style=\"text-align: right;\">\n",
       "      <th></th>\n",
       "      <th>0</th>\n",
       "      <th>1</th>\n",
       "    </tr>\n",
       "  </thead>\n",
       "  <tbody>\n",
       "    <tr>\n",
       "      <th>0</th>\n",
       "      <td>android web</td>\n",
       "      <td>[1.78770417216]</td>\n",
       "    </tr>\n",
       "    <tr>\n",
       "      <th>1</th>\n",
       "      <td>ios web</td>\n",
       "      <td>[1.98252043257]</td>\n",
       "    </tr>\n",
       "    <tr>\n",
       "      <th>2</th>\n",
       "      <td>mac</td>\n",
       "      <td>[2.36996538278]</td>\n",
       "    </tr>\n",
       "    <tr>\n",
       "      <th>3</th>\n",
       "      <td>other</td>\n",
       "      <td>[2.19465302728]</td>\n",
       "    </tr>\n",
       "    <tr>\n",
       "      <th>4</th>\n",
       "      <td>windows</td>\n",
       "      <td>[2.24133874273]</td>\n",
       "    </tr>\n",
       "    <tr>\n",
       "      <th>5</th>\n",
       "      <td>Organic</td>\n",
       "      <td>[0.524000735114]</td>\n",
       "    </tr>\n",
       "    <tr>\n",
       "      <th>6</th>\n",
       "      <td>Paid</td>\n",
       "      <td>[-0.0259580407483]</td>\n",
       "    </tr>\n",
       "    <tr>\n",
       "      <th>7</th>\n",
       "      <td>Referral</td>\n",
       "      <td>[1.45164520326]</td>\n",
       "    </tr>\n",
       "    <tr>\n",
       "      <th>8</th>\n",
       "      <td>Berton</td>\n",
       "      <td>[0.130902572275]</td>\n",
       "    </tr>\n",
       "    <tr>\n",
       "      <th>9</th>\n",
       "      <td>Strark</td>\n",
       "      <td>[0.110205716767]</td>\n",
       "    </tr>\n",
       "    <tr>\n",
       "      <th>10</th>\n",
       "      <td>Wrouver</td>\n",
       "      <td>[-0.0289683211937]</td>\n",
       "    </tr>\n",
       "    <tr>\n",
       "      <th>11</th>\n",
       "      <td>signup_to_bgc</td>\n",
       "      <td>[-0.0791906699035]</td>\n",
       "    </tr>\n",
       "    <tr>\n",
       "      <th>12</th>\n",
       "      <td>signup_to_veh</td>\n",
       "      <td>[-0.310912700829]</td>\n",
       "    </tr>\n",
       "  </tbody>\n",
       "</table>\n",
       "</div>"
      ],
      "text/plain": [
       "                0                   1\n",
       "0     android web     [1.78770417216]\n",
       "1         ios web     [1.98252043257]\n",
       "2             mac     [2.36996538278]\n",
       "3           other     [2.19465302728]\n",
       "4         windows     [2.24133874273]\n",
       "5         Organic    [0.524000735114]\n",
       "6            Paid  [-0.0259580407483]\n",
       "7        Referral     [1.45164520326]\n",
       "8          Berton    [0.130902572275]\n",
       "9          Strark    [0.110205716767]\n",
       "10        Wrouver  [-0.0289683211937]\n",
       "11  signup_to_bgc  [-0.0791906699035]\n",
       "12  signup_to_veh   [-0.310912700829]"
      ]
     },
     "execution_count": 669,
     "metadata": {},
     "output_type": "execute_result"
    }
   ],
   "source": [
    "# examine the coefficients\n",
    "pd.DataFrame(list(zip(X.columns, np.transpose(model_5.coef_))))"
   ]
  },
  {
   "cell_type": "code",
   "execution_count": 671,
   "metadata": {
    "collapsed": false
   },
   "outputs": [
    {
     "name": "stdout",
     "output_type": "stream",
     "text": [
      "0.857929661957\n"
     ]
    }
   ],
   "source": [
    "print (metrics.roc_auc_score(y_test, probs_5[:, 1]))"
   ]
  },
  {
   "cell_type": "markdown",
   "metadata": {},
   "source": [
    "#### After l1 Regularization auc score incrased by 1 basis point although now referral feature has more predictive power , which is what we expect"
   ]
  },
  {
   "cell_type": "markdown",
   "metadata": {},
   "source": [
    "# Lets try Decision trees\n",
    "### Decision trees will give more accurate result since it calculates the score from eah feature multiple times\n",
    "### Pre-prunning has been applied here to avoid over fitting"
   ]
  },
  {
   "cell_type": "code",
   "execution_count": 677,
   "metadata": {
    "collapsed": true
   },
   "outputs": [],
   "source": [
    "from sklearn.tree import DecisionTreeClassifier"
   ]
  },
  {
   "cell_type": "code",
   "execution_count": null,
   "metadata": {
    "collapsed": true
   },
   "outputs": [],
   "source": []
  },
  {
   "cell_type": "code",
   "execution_count": 741,
   "metadata": {
    "collapsed": false
   },
   "outputs": [
    {
     "data": {
      "text/plain": [
       "0.94103354582506005"
      ]
     },
     "execution_count": 741,
     "metadata": {},
     "output_type": "execute_result"
    }
   ],
   "source": [
    "\n",
    "dtree = DecisionTreeClassifier(random_state=0, max_depth=3).fit(X_train, y_train)\n",
    "dtree.score(X_train, y_train)\n"
   ]
  },
  {
   "cell_type": "markdown",
   "metadata": {},
   "source": [
    "### Accuracy score on Train data is 0.94"
   ]
  },
  {
   "cell_type": "code",
   "execution_count": null,
   "metadata": {
    "collapsed": true
   },
   "outputs": [],
   "source": [
    "dtree.score(X_train, y_train)"
   ]
  },
  {
   "cell_type": "code",
   "execution_count": 684,
   "metadata": {
    "collapsed": true
   },
   "outputs": [],
   "source": [
    "Y_pred =  dtree.predict(X_test)\n",
    "test_auc = roc_auc_score(X_test, Y_pred)"
   ]
  },
  {
   "cell_type": "code",
   "execution_count": 685,
   "metadata": {
    "collapsed": false
   },
   "outputs": [
    {
     "data": {
      "text/plain": [
       "0.86390367979543969"
      ]
     },
     "execution_count": 685,
     "metadata": {},
     "output_type": "execute_result"
    }
   ],
   "source": [
    "test_auc"
   ]
  },
  {
   "cell_type": "code",
   "execution_count": 686,
   "metadata": {
    "collapsed": true
   },
   "outputs": [],
   "source": [
    "Y_pred =  dtree.predict(X_train)\n",
    "train_auc = roc_auc_score(y_train, Y_pred)"
   ]
  },
  {
   "cell_type": "code",
   "execution_count": 687,
   "metadata": {
    "collapsed": false
   },
   "outputs": [
    {
     "data": {
      "text/plain": [
       "0.8642278919082802"
      ]
     },
     "execution_count": 687,
     "metadata": {},
     "output_type": "execute_result"
    }
   ],
   "source": [
    "train_auc"
   ]
  },
  {
   "cell_type": "markdown",
   "metadata": {},
   "source": [
    "### Both train and test roc_auc_score are same which shows that there is less variance and which is a good measure of less overfitting"
   ]
  },
  {
   "cell_type": "code",
   "execution_count": 689,
   "metadata": {
    "collapsed": false
   },
   "outputs": [],
   "source": [
    "probs_tree = dtree.predict_proba(X_test)"
   ]
  },
  {
   "cell_type": "code",
   "execution_count": 690,
   "metadata": {
    "collapsed": false
   },
   "outputs": [
    {
     "data": {
      "text/plain": [
       "array([0, 0, 0, ..., 0, 0, 0])"
      ]
     },
     "execution_count": 690,
     "metadata": {},
     "output_type": "execute_result"
    }
   ],
   "source": [
    "Y_pred"
   ]
  },
  {
   "cell_type": "code",
   "execution_count": 725,
   "metadata": {
    "collapsed": false
   },
   "outputs": [
    {
     "data": {
      "text/plain": [
       "array([[ 0.97345291,  0.02654709],\n",
       "       [ 0.99471615,  0.00528385],\n",
       "       [ 0.99471615,  0.00528385],\n",
       "       ..., \n",
       "       [ 0.99471615,  0.00528385],\n",
       "       [ 0.67188264,  0.32811736],\n",
       "       [ 0.99471615,  0.00528385]])"
      ]
     },
     "execution_count": 725,
     "metadata": {},
     "output_type": "execute_result"
    }
   ],
   "source": [
    "probs_tree"
   ]
  },
  {
   "cell_type": "code",
   "execution_count": 726,
   "metadata": {
    "collapsed": false
   },
   "outputs": [
    {
     "name": "stdout",
     "output_type": "stream",
     "text": [
      "0.937884791222\n"
     ]
    }
   ],
   "source": [
    "print (metrics.accuracy_score(y_test, Y_pred))"
   ]
  },
  {
   "cell_type": "markdown",
   "metadata": {},
   "source": [
    "## Accuracy score is 93% "
   ]
  },
  {
   "cell_type": "code",
   "execution_count": 693,
   "metadata": {
    "collapsed": false
   },
   "outputs": [
    {
     "name": "stdout",
     "output_type": "stream",
     "text": [
      "Feature Importance in Decision trees: \n"
     ]
    },
    {
     "data": {
      "image/png": "[encoded data removed]",
      "text/plain": [
       "<matplotlib.figure.Figure at 0x126e05630>"
      ]
     },
     "metadata": {},
     "output_type": "display_data"
    }
   ],
   "source": [
    "plt.plot(dtree.feature_importances_, 'o')\n",
    "plt.xticks(range(X.shape[1]), X.columns, rotation=90)\n",
    "print ('Feature Importance in Decision trees: ')"
   ]
  },
  {
   "cell_type": "markdown",
   "metadata": {},
   "source": [
    "## Since predictive power is same in both the models however auc score of Decision Tree is higher we Should use Decision Tree Model.\n"
   ]
  },
  {
   "cell_type": "markdown",
   "metadata": {},
   "source": [
    "# Caveats and learning"
   ]
  },
  {
   "cell_type": "code",
   "execution_count": null,
   "metadata": {
    "collapsed": true
   },
   "outputs": [],
   "source": []
  },
  {
   "cell_type": "markdown",
   "metadata": {},
   "source": [
    "> I also applied the random forest classifier and decison tree classifiers , however none of them providd substantial increment in predictive power or auc_score. Hence it is better to use decision tree over a black box ensemble method.\n",
    "\n",
    "> I would love to have data for more than one month to look for a seasonality impact as well. \n",
    "\n",
    "> Data points regardig the referral type might be helpful (Whether customer referred the driver or another driver)\n",
    "\n",
    "> Also information regarding some promotions on competetiors platform can help to predict the outcome better"
   ]
  },
  {
   "cell_type": "markdown",
   "metadata": {},
   "source": [
    "# Insights:"
   ]
  },
  {
   "cell_type": "markdown",
   "metadata": {},
   "source": [
    "> Referral channel is perfoming the best where as paid channel performance is not good,so it might make sense to give more budget to the Referral programs and give more referral bonuses as compare to spending money on paid channels\n",
    "\n",
    "> More the delay between the signup date and background check date and vehicle add date lesser the chances of driver actually making he trip, we see a lot of drop in volume from background check to vehicle add . We should reevaluate our  background check process to see if its acting as hindrance for drivers to come on board. \n"
   ]
  },
  {
   "cell_type": "code",
   "execution_count": 745,
   "metadata": {
    "collapsed": false
   },
   "outputs": [
    {
     "data": {
      "text/plain": [
       "'/Users/shobhit/anaconda/bin:/Users/shobhit/Documents/python/anaconda/bin:/Users/shobhit/anaconda/bin:/Users/shobhit/Documents/python/anaconda/bin:/Users/shobhit/anaconda/bin:/Library/Frameworks/Python.framework/Versions/3.4/bin:/Library/Frameworks/Python.framework/Versions/3.4/bin:/Library/Frameworks/Python.framework/Versions/3.4/bin:/Library/Frameworks/Python.framework/Versions/3.4/bin:/usr/local/bin:/usr/bin:/bin:/usr/sbin:/sbin:/opt/X11/bin:/usr/local/git/bin'"
      ]
     },
     "execution_count": 745,
     "metadata": {},
     "output_type": "execute_result"
    }
   ],
   "source": [
    "import os\n",
    "os.environ['PATH']"
   ]
  },
  {
   "cell_type": "code",
   "execution_count": null,
   "metadata": {
    "collapsed": true
   },
   "outputs": [],
   "source": []
  },
  {
   "cell_type": "code",
   "execution_count": null,
   "metadata": {
    "collapsed": true
   },
   "outputs": [],
   "source": []
  }
 ],
 "metadata": {
  "kernelspec": {
   "display_name": "Python 3",
   "language": "python",
   "name": "python3"
  },
  "language_info": {
   "codemirror_mode": {
    "name": "ipython",
    "version": 3
   },
   "file_extension": ".py",
   "mimetype": "text/x-python",
   "name": "python",
   "nbconvert_exporter": "python",
   "pygments_lexer": "ipython3",
   "version": "3.5.1"
  }
 },
 "nbformat": 4,
 "nbformat_minor": 0
}
